{
 "cells": [
  {
   "cell_type": "code",
   "execution_count": 13,
   "id": "66a96a8a",
   "metadata": {},
   "outputs": [
    {
     "data": {
      "text/plain": [
       "'pt_BR.utf8'"
      ]
     },
     "execution_count": 13,
     "metadata": {},
     "output_type": "execute_result"
    }
   ],
   "source": [
    "import pandas as pd\n",
    "from datetime import date, timedelta, datetime\n",
    "import numpy as np\n",
    "import plotly.graph_objects as go\n",
    "from plotly.subplots import make_subplots\n",
    "from plotly.validators.scatter.marker import SymbolValidator\n",
    "import json\n",
    "from urllib.request import urlopen\n",
    "import locale\n",
    "locale.setlocale(locale.LC_ALL, 'pt_BR.utf8')"
   ]
  },
  {
   "cell_type": "code",
   "execution_count": 14,
   "id": "402b0023",
   "metadata": {},
   "outputs": [
    {
     "name": "stdout",
     "output_type": "stream",
     "text": [
      "Processamento inciado às: 25/03/24 13:43:34\n"
     ]
    }
   ],
   "source": [
    "# Registrando inicio do processamento\n",
    "now = datetime.now()\n",
    "print(\"Processamento inciado às:\",\n",
    "      f'{now:%d/%m/%y %H:%M:%S}')"
   ]
  },
  {
   "cell_type": "code",
   "execution_count": 15,
   "id": "cbd6c989-95ab-47e1-a10d-5cd7821cafdf",
   "metadata": {
    "tags": []
   },
   "outputs": [],
   "source": [
    "df = pd.read_parquet('../data/combustiveis_22_23.parquet')"
   ]
  },
  {
   "cell_type": "code",
   "execution_count": 16,
   "id": "901f757d-54b1-4ef6-a870-09a1cbbaf17c",
   "metadata": {
    "tags": []
   },
   "outputs": [
    {
     "data": {
      "text/html": [
       "<div>\n",
       "<style scoped>\n",
       "    .dataframe tbody tr th:only-of-type {\n",
       "        vertical-align: middle;\n",
       "    }\n",
       "\n",
       "    .dataframe tbody tr th {\n",
       "        vertical-align: top;\n",
       "    }\n",
       "\n",
       "    .dataframe thead th {\n",
       "        text-align: right;\n",
       "    }\n",
       "</style>\n",
       "<table border=\"1\" class=\"dataframe\">\n",
       "  <thead>\n",
       "    <tr style=\"text-align: right;\">\n",
       "      <th></th>\n",
       "      <th>REGIAO - SIGLA</th>\n",
       "      <th>ESTADO - SIGLA</th>\n",
       "      <th>MUNICIPIO</th>\n",
       "      <th>REVENDA</th>\n",
       "      <th>CNPJ DA REVENDA</th>\n",
       "      <th>NOME DA RUA</th>\n",
       "      <th>NUMERO RUA</th>\n",
       "      <th>COMPLEMENTO</th>\n",
       "      <th>BAIRRO</th>\n",
       "      <th>CEP</th>\n",
       "      <th>PRODUTO</th>\n",
       "      <th>DATA DA COLETA</th>\n",
       "      <th>VALOR DE VENDA</th>\n",
       "      <th>VALOR DE COMPRA</th>\n",
       "      <th>UNIDADE DE MEDIDA</th>\n",
       "      <th>BANDEIRA</th>\n",
       "    </tr>\n",
       "  </thead>\n",
       "  <tbody>\n",
       "    <tr>\n",
       "      <th>0</th>\n",
       "      <td>SE</td>\n",
       "      <td>ES</td>\n",
       "      <td>COLATINA</td>\n",
       "      <td>SAO FRANCISCO DE ASSIS COMERCIO DE COMBUSTIVEI...</td>\n",
       "      <td>08.519.545/0001-10</td>\n",
       "      <td>PRACA FIDELIS FERRARI</td>\n",
       "      <td>35</td>\n",
       "      <td>None</td>\n",
       "      <td>LACE</td>\n",
       "      <td>29703-030</td>\n",
       "      <td>GASOLINA ADITIVADA</td>\n",
       "      <td>2022-07-01</td>\n",
       "      <td>7,48</td>\n",
       "      <td>NaN</td>\n",
       "      <td>R$ / litro</td>\n",
       "      <td>VIBRA ENERGIA</td>\n",
       "    </tr>\n",
       "    <tr>\n",
       "      <th>1</th>\n",
       "      <td>SE</td>\n",
       "      <td>ES</td>\n",
       "      <td>COLATINA</td>\n",
       "      <td>SAO FRANCISCO DE ASSIS COMERCIO DE COMBUSTIVEI...</td>\n",
       "      <td>08.519.545/0001-10</td>\n",
       "      <td>PRACA FIDELIS FERRARI</td>\n",
       "      <td>35</td>\n",
       "      <td>None</td>\n",
       "      <td>LACE</td>\n",
       "      <td>29703-030</td>\n",
       "      <td>GASOLINA</td>\n",
       "      <td>2022-07-01</td>\n",
       "      <td>7,38</td>\n",
       "      <td>NaN</td>\n",
       "      <td>R$ / litro</td>\n",
       "      <td>VIBRA ENERGIA</td>\n",
       "    </tr>\n",
       "    <tr>\n",
       "      <th>2</th>\n",
       "      <td>SE</td>\n",
       "      <td>ES</td>\n",
       "      <td>COLATINA</td>\n",
       "      <td>POSTO MOTOCAP LTDA</td>\n",
       "      <td>04.814.652/0001-10</td>\n",
       "      <td>PRACA ALMIRANTE BARROSO</td>\n",
       "      <td>52</td>\n",
       "      <td>LETRA A</td>\n",
       "      <td>LACE</td>\n",
       "      <td>29703-055</td>\n",
       "      <td>DIESEL S10</td>\n",
       "      <td>2022-07-01</td>\n",
       "      <td>7,69</td>\n",
       "      <td>NaN</td>\n",
       "      <td>R$ / litro</td>\n",
       "      <td>VIBRA ENERGIA</td>\n",
       "    </tr>\n",
       "    <tr>\n",
       "      <th>3</th>\n",
       "      <td>SE</td>\n",
       "      <td>ES</td>\n",
       "      <td>COLATINA</td>\n",
       "      <td>POSTO MOTOCAP LTDA</td>\n",
       "      <td>04.814.652/0001-10</td>\n",
       "      <td>PRACA ALMIRANTE BARROSO</td>\n",
       "      <td>52</td>\n",
       "      <td>LETRA A</td>\n",
       "      <td>LACE</td>\n",
       "      <td>29703-055</td>\n",
       "      <td>ETANOL</td>\n",
       "      <td>2022-07-01</td>\n",
       "      <td>5,99</td>\n",
       "      <td>NaN</td>\n",
       "      <td>R$ / litro</td>\n",
       "      <td>VIBRA ENERGIA</td>\n",
       "    </tr>\n",
       "    <tr>\n",
       "      <th>4</th>\n",
       "      <td>SE</td>\n",
       "      <td>ES</td>\n",
       "      <td>COLATINA</td>\n",
       "      <td>POSTO MOTOCAP LTDA</td>\n",
       "      <td>04.814.652/0001-10</td>\n",
       "      <td>PRACA ALMIRANTE BARROSO</td>\n",
       "      <td>52</td>\n",
       "      <td>LETRA A</td>\n",
       "      <td>LACE</td>\n",
       "      <td>29703-055</td>\n",
       "      <td>GASOLINA</td>\n",
       "      <td>2022-07-01</td>\n",
       "      <td>7,39</td>\n",
       "      <td>NaN</td>\n",
       "      <td>R$ / litro</td>\n",
       "      <td>VIBRA ENERGIA</td>\n",
       "    </tr>\n",
       "  </tbody>\n",
       "</table>\n",
       "</div>"
      ],
      "text/plain": [
       "  REGIAO - SIGLA ESTADO - SIGLA MUNICIPIO  \\\n",
       "0             SE             ES  COLATINA   \n",
       "1             SE             ES  COLATINA   \n",
       "2             SE             ES  COLATINA   \n",
       "3             SE             ES  COLATINA   \n",
       "4             SE             ES  COLATINA   \n",
       "\n",
       "                                             REVENDA      CNPJ DA REVENDA  \\\n",
       "0  SAO FRANCISCO DE ASSIS COMERCIO DE COMBUSTIVEI...   08.519.545/0001-10   \n",
       "1  SAO FRANCISCO DE ASSIS COMERCIO DE COMBUSTIVEI...   08.519.545/0001-10   \n",
       "2                                 POSTO MOTOCAP LTDA   04.814.652/0001-10   \n",
       "3                                 POSTO MOTOCAP LTDA   04.814.652/0001-10   \n",
       "4                                 POSTO MOTOCAP LTDA   04.814.652/0001-10   \n",
       "\n",
       "               NOME DA RUA NUMERO RUA COMPLEMENTO BAIRRO        CEP  \\\n",
       "0    PRACA FIDELIS FERRARI         35        None   LACE  29703-030   \n",
       "1    PRACA FIDELIS FERRARI         35        None   LACE  29703-030   \n",
       "2  PRACA ALMIRANTE BARROSO         52     LETRA A   LACE  29703-055   \n",
       "3  PRACA ALMIRANTE BARROSO         52     LETRA A   LACE  29703-055   \n",
       "4  PRACA ALMIRANTE BARROSO         52     LETRA A   LACE  29703-055   \n",
       "\n",
       "              PRODUTO DATA DA COLETA VALOR DE VENDA  VALOR DE COMPRA  \\\n",
       "0  GASOLINA ADITIVADA     2022-07-01           7,48              NaN   \n",
       "1            GASOLINA     2022-07-01           7,38              NaN   \n",
       "2          DIESEL S10     2022-07-01           7,69              NaN   \n",
       "3              ETANOL     2022-07-01           5,99              NaN   \n",
       "4            GASOLINA     2022-07-01           7,39              NaN   \n",
       "\n",
       "  UNIDADE DE MEDIDA       BANDEIRA  \n",
       "0        R$ / litro  VIBRA ENERGIA  \n",
       "1        R$ / litro  VIBRA ENERGIA  \n",
       "2        R$ / litro  VIBRA ENERGIA  \n",
       "3        R$ / litro  VIBRA ENERGIA  \n",
       "4        R$ / litro  VIBRA ENERGIA  "
      ]
     },
     "execution_count": 16,
     "metadata": {},
     "output_type": "execute_result"
    }
   ],
   "source": [
    "df.head()"
   ]
  },
  {
   "cell_type": "code",
   "execution_count": 17,
   "id": "ff3590cc",
   "metadata": {},
   "outputs": [
    {
     "data": {
      "text/plain": [
       "(2674654, 16)"
      ]
     },
     "execution_count": 17,
     "metadata": {},
     "output_type": "execute_result"
    }
   ],
   "source": [
    "df.shape"
   ]
  },
  {
   "cell_type": "code",
   "execution_count": 18,
   "id": "697467bb-49ee-429b-b3b6-3514cae50569",
   "metadata": {},
   "outputs": [
    {
     "name": "stdout",
     "output_type": "stream",
     "text": [
      "<class 'pandas.core.frame.DataFrame'>\n",
      "RangeIndex: 2674654 entries, 0 to 2674653\n",
      "Data columns (total 16 columns):\n",
      " #   Column             Dtype         \n",
      "---  ------             -----         \n",
      " 0   REGIAO - SIGLA     object        \n",
      " 1   ESTADO - SIGLA     object        \n",
      " 2   MUNICIPIO          object        \n",
      " 3   REVENDA            object        \n",
      " 4   CNPJ DA REVENDA    object        \n",
      " 5   NOME DA RUA        object        \n",
      " 6   NUMERO RUA         object        \n",
      " 7   COMPLEMENTO        object        \n",
      " 8   BAIRRO             object        \n",
      " 9   CEP                object        \n",
      " 10  PRODUTO            object        \n",
      " 11  DATA DA COLETA     datetime64[us]\n",
      " 12  VALOR DE VENDA     object        \n",
      " 13  VALOR DE COMPRA    float64       \n",
      " 14  UNIDADE DE MEDIDA  object        \n",
      " 15  BANDEIRA           object        \n",
      "dtypes: datetime64[us](1), float64(1), object(14)\n",
      "memory usage: 326.5+ MB\n"
     ]
    }
   ],
   "source": [
    "df.info()"
   ]
  },
  {
   "cell_type": "code",
   "execution_count": 19,
   "id": "0e47f9d8-5a03-41ed-9348-6040d5d7ba04",
   "metadata": {
    "tags": []
   },
   "outputs": [],
   "source": [
    "df.columns = df.columns.str.strip().str.upper()"
   ]
  },
  {
   "cell_type": "code",
   "execution_count": 20,
   "id": "073d22e0-d597-4f63-9ade-84bb2693ec95",
   "metadata": {
    "tags": []
   },
   "outputs": [
    {
     "data": {
      "text/plain": [
       "['REGIAO - SIGLA',\n",
       " 'ESTADO - SIGLA',\n",
       " 'MUNICIPIO',\n",
       " 'REVENDA',\n",
       " 'CNPJ DA REVENDA',\n",
       " 'NOME DA RUA',\n",
       " 'NUMERO RUA',\n",
       " 'COMPLEMENTO',\n",
       " 'BAIRRO',\n",
       " 'CEP',\n",
       " 'PRODUTO',\n",
       " 'DATA DA COLETA',\n",
       " 'VALOR DE VENDA',\n",
       " 'VALOR DE COMPRA',\n",
       " 'UNIDADE DE MEDIDA',\n",
       " 'BANDEIRA']"
      ]
     },
     "execution_count": 20,
     "metadata": {},
     "output_type": "execute_result"
    }
   ],
   "source": [
    "df.columns.tolist()"
   ]
  },
  {
   "cell_type": "code",
   "execution_count": 21,
   "id": "1b643372-1e71-40f1-ba90-588e29573df4",
   "metadata": {
    "tags": []
   },
   "outputs": [],
   "source": [
    "df['DATA DA COLETA'] = pd.to_datetime(df['DATA DA COLETA'], format= '%d/%m/%Y')"
   ]
  },
  {
   "cell_type": "code",
   "execution_count": 22,
   "id": "23356048-4fd1-4da1-80c1-1f4f91704979",
   "metadata": {
    "tags": []
   },
   "outputs": [
    {
     "data": {
      "text/plain": [
       "Timestamp('2022-01-03 00:00:00')"
      ]
     },
     "execution_count": 22,
     "metadata": {},
     "output_type": "execute_result"
    }
   ],
   "source": [
    "df['DATA DA COLETA'].min()"
   ]
  },
  {
   "cell_type": "code",
   "execution_count": 23,
   "id": "1aa99a96-0d01-4102-9d44-47a55e3e9d18",
   "metadata": {
    "tags": []
   },
   "outputs": [
    {
     "data": {
      "text/plain": [
       "Timestamp('2023-12-29 00:00:00')"
      ]
     },
     "execution_count": 23,
     "metadata": {},
     "output_type": "execute_result"
    }
   ],
   "source": [
    "df['DATA DA COLETA'].max()"
   ]
  },
  {
   "cell_type": "code",
   "execution_count": 24,
   "id": "f36c6eb8-7920-43ef-9bed-01c03ae0ce10",
   "metadata": {
    "tags": []
   },
   "outputs": [
    {
     "data": {
      "text/plain": [
       "1294728"
      ]
     },
     "execution_count": 24,
     "metadata": {},
     "output_type": "execute_result"
    }
   ],
   "source": [
    "df[\n",
    "    df.duplicated(subset= df.columns.tolist(),\n",
    "                 keep= False)\n",
    "].shape[0]"
   ]
  },
  {
   "cell_type": "code",
   "execution_count": 25,
   "id": "e36c453e-5a10-415e-8a4f-dbc3054bc87b",
   "metadata": {
    "tags": []
   },
   "outputs": [],
   "source": [
    "antes = df.shape[0]"
   ]
  },
  {
   "cell_type": "code",
   "execution_count": 26,
   "id": "3933ac37-f30d-4fb9-b8bc-c84f6adfb322",
   "metadata": {
    "tags": []
   },
   "outputs": [],
   "source": [
    "df.drop_duplicates(subset=df.columns.tolist(), inplace= True)"
   ]
  },
  {
   "cell_type": "code",
   "execution_count": 27,
   "id": "200a7ae5-6059-4ca0-8238-b61384b554f0",
   "metadata": {
    "tags": []
   },
   "outputs": [],
   "source": [
    "depois = df.shape[0]"
   ]
  },
  {
   "cell_type": "code",
   "execution_count": 28,
   "id": "5ef40cb6-4c7c-44e6-878a-fe453e46d7d1",
   "metadata": {
    "tags": []
   },
   "outputs": [
    {
     "name": "stdout",
     "output_type": "stream",
     "text": [
      "Duplicadas excluídas: 863152\n"
     ]
    }
   ],
   "source": [
    "print('Duplicadas excluídas: {}'.format(antes-depois))"
   ]
  },
  {
   "cell_type": "code",
   "execution_count": 29,
   "id": "382694ca-a741-40d7-8244-1e259e3d07ef",
   "metadata": {
    "tags": []
   },
   "outputs": [
    {
     "data": {
      "text/plain": [
       "(1811502, 16)"
      ]
     },
     "execution_count": 29,
     "metadata": {},
     "output_type": "execute_result"
    }
   ],
   "source": [
    "df.shape"
   ]
  },
  {
   "cell_type": "code",
   "execution_count": 30,
   "id": "dbf07aaa-53b0-4711-ad8e-5e2c5063248f",
   "metadata": {
    "tags": []
   },
   "outputs": [
    {
     "name": "stdout",
     "output_type": "stream",
     "text": [
      "<class 'pandas.core.frame.DataFrame'>\n",
      "Index: 1811502 entries, 0 to 2674653\n",
      "Data columns (total 16 columns):\n",
      " #   Column             Dtype         \n",
      "---  ------             -----         \n",
      " 0   REGIAO - SIGLA     object        \n",
      " 1   ESTADO - SIGLA     object        \n",
      " 2   MUNICIPIO          object        \n",
      " 3   REVENDA            object        \n",
      " 4   CNPJ DA REVENDA    object        \n",
      " 5   NOME DA RUA        object        \n",
      " 6   NUMERO RUA         object        \n",
      " 7   COMPLEMENTO        object        \n",
      " 8   BAIRRO             object        \n",
      " 9   CEP                object        \n",
      " 10  PRODUTO            object        \n",
      " 11  DATA DA COLETA     datetime64[us]\n",
      " 12  VALOR DE VENDA     object        \n",
      " 13  VALOR DE COMPRA    float64       \n",
      " 14  UNIDADE DE MEDIDA  object        \n",
      " 15  BANDEIRA           object        \n",
      "dtypes: datetime64[us](1), float64(1), object(14)\n",
      "memory usage: 235.0+ MB\n"
     ]
    }
   ],
   "source": [
    "df.info()"
   ]
  },
  {
   "cell_type": "code",
   "execution_count": 31,
   "id": "382bbac8-8560-43b1-98c6-5ae2ad578773",
   "metadata": {
    "tags": []
   },
   "outputs": [
    {
     "data": {
      "text/html": [
       "<div>\n",
       "<style scoped>\n",
       "    .dataframe tbody tr th:only-of-type {\n",
       "        vertical-align: middle;\n",
       "    }\n",
       "\n",
       "    .dataframe tbody tr th {\n",
       "        vertical-align: top;\n",
       "    }\n",
       "\n",
       "    .dataframe thead th {\n",
       "        text-align: right;\n",
       "    }\n",
       "</style>\n",
       "<table border=\"1\" class=\"dataframe\">\n",
       "  <thead>\n",
       "    <tr style=\"text-align: right;\">\n",
       "      <th></th>\n",
       "      <th>REGIAO - SIGLA</th>\n",
       "      <th>ESTADO - SIGLA</th>\n",
       "      <th>MUNICIPIO</th>\n",
       "      <th>REVENDA</th>\n",
       "      <th>CNPJ DA REVENDA</th>\n",
       "      <th>NOME DA RUA</th>\n",
       "      <th>NUMERO RUA</th>\n",
       "      <th>COMPLEMENTO</th>\n",
       "      <th>BAIRRO</th>\n",
       "      <th>CEP</th>\n",
       "      <th>PRODUTO</th>\n",
       "      <th>DATA DA COLETA</th>\n",
       "      <th>VALOR DE VENDA</th>\n",
       "      <th>VALOR DE COMPRA</th>\n",
       "      <th>UNIDADE DE MEDIDA</th>\n",
       "      <th>BANDEIRA</th>\n",
       "    </tr>\n",
       "  </thead>\n",
       "  <tbody>\n",
       "    <tr>\n",
       "      <th>0</th>\n",
       "      <td>SE</td>\n",
       "      <td>ES</td>\n",
       "      <td>COLATINA</td>\n",
       "      <td>SAO FRANCISCO DE ASSIS COMERCIO DE COMBUSTIVEI...</td>\n",
       "      <td>08.519.545/0001-10</td>\n",
       "      <td>PRACA FIDELIS FERRARI</td>\n",
       "      <td>35</td>\n",
       "      <td>None</td>\n",
       "      <td>LACE</td>\n",
       "      <td>29703-030</td>\n",
       "      <td>GASOLINA ADITIVADA</td>\n",
       "      <td>2022-07-01</td>\n",
       "      <td>7,48</td>\n",
       "      <td>NaN</td>\n",
       "      <td>R$ / litro</td>\n",
       "      <td>VIBRA ENERGIA</td>\n",
       "    </tr>\n",
       "  </tbody>\n",
       "</table>\n",
       "</div>"
      ],
      "text/plain": [
       "  REGIAO - SIGLA ESTADO - SIGLA MUNICIPIO  \\\n",
       "0             SE             ES  COLATINA   \n",
       "\n",
       "                                             REVENDA      CNPJ DA REVENDA  \\\n",
       "0  SAO FRANCISCO DE ASSIS COMERCIO DE COMBUSTIVEI...   08.519.545/0001-10   \n",
       "\n",
       "             NOME DA RUA NUMERO RUA COMPLEMENTO BAIRRO        CEP  \\\n",
       "0  PRACA FIDELIS FERRARI         35        None   LACE  29703-030   \n",
       "\n",
       "              PRODUTO DATA DA COLETA VALOR DE VENDA  VALOR DE COMPRA  \\\n",
       "0  GASOLINA ADITIVADA     2022-07-01           7,48              NaN   \n",
       "\n",
       "  UNIDADE DE MEDIDA       BANDEIRA  \n",
       "0        R$ / litro  VIBRA ENERGIA  "
      ]
     },
     "execution_count": 31,
     "metadata": {},
     "output_type": "execute_result"
    }
   ],
   "source": [
    "df.head(1)"
   ]
  },
  {
   "cell_type": "code",
   "execution_count": 32,
   "id": "7815a617-34c0-48f4-88a1-709bba1d6f81",
   "metadata": {
    "tags": []
   },
   "outputs": [],
   "source": [
    "df['ANO'] = df['DATA DA COLETA'].dt.year\n",
    "df['MES'] = df['DATA DA COLETA'].dt.month"
   ]
  },
  {
   "cell_type": "code",
   "execution_count": 33,
   "id": "17e7186a-f624-4e03-8262-32d03d13b8a9",
   "metadata": {
    "tags": []
   },
   "outputs": [
    {
     "name": "stdout",
     "output_type": "stream",
     "text": [
      "<class 'pandas.core.frame.DataFrame'>\n",
      "Index: 1811502 entries, 0 to 2674653\n",
      "Data columns (total 18 columns):\n",
      " #   Column             Dtype         \n",
      "---  ------             -----         \n",
      " 0   REGIAO - SIGLA     object        \n",
      " 1   ESTADO - SIGLA     object        \n",
      " 2   MUNICIPIO          object        \n",
      " 3   REVENDA            object        \n",
      " 4   CNPJ DA REVENDA    object        \n",
      " 5   NOME DA RUA        object        \n",
      " 6   NUMERO RUA         object        \n",
      " 7   COMPLEMENTO        object        \n",
      " 8   BAIRRO             object        \n",
      " 9   CEP                object        \n",
      " 10  PRODUTO            object        \n",
      " 11  DATA DA COLETA     datetime64[us]\n",
      " 12  VALOR DE VENDA     object        \n",
      " 13  VALOR DE COMPRA    float64       \n",
      " 14  UNIDADE DE MEDIDA  object        \n",
      " 15  BANDEIRA           object        \n",
      " 16  ANO                int32         \n",
      " 17  MES                int32         \n",
      "dtypes: datetime64[us](1), float64(1), int32(2), object(14)\n",
      "memory usage: 248.8+ MB\n"
     ]
    }
   ],
   "source": [
    "df.info()"
   ]
  },
  {
   "cell_type": "code",
   "execution_count": 34,
   "id": "97a73b8b-354e-4942-9235-d38a54652620",
   "metadata": {
    "tags": []
   },
   "outputs": [],
   "source": [
    "df['NM_MES'] = (df['DATA DA COLETA'].apply(lambda x: x.strftime(\"%B\"))).str.upper()"
   ]
  },
  {
   "cell_type": "code",
   "execution_count": 35,
   "id": "57c7a777-4d26-4f5c-b3b6-1010e01ed36a",
   "metadata": {
    "tags": []
   },
   "outputs": [
    {
     "data": {
      "text/html": [
       "<div>\n",
       "<style scoped>\n",
       "    .dataframe tbody tr th:only-of-type {\n",
       "        vertical-align: middle;\n",
       "    }\n",
       "\n",
       "    .dataframe tbody tr th {\n",
       "        vertical-align: top;\n",
       "    }\n",
       "\n",
       "    .dataframe thead th {\n",
       "        text-align: right;\n",
       "    }\n",
       "</style>\n",
       "<table border=\"1\" class=\"dataframe\">\n",
       "  <thead>\n",
       "    <tr style=\"text-align: right;\">\n",
       "      <th></th>\n",
       "      <th>REGIAO - SIGLA</th>\n",
       "      <th>ESTADO - SIGLA</th>\n",
       "      <th>MUNICIPIO</th>\n",
       "      <th>REVENDA</th>\n",
       "      <th>CNPJ DA REVENDA</th>\n",
       "      <th>NOME DA RUA</th>\n",
       "      <th>NUMERO RUA</th>\n",
       "      <th>COMPLEMENTO</th>\n",
       "      <th>BAIRRO</th>\n",
       "      <th>CEP</th>\n",
       "      <th>PRODUTO</th>\n",
       "      <th>DATA DA COLETA</th>\n",
       "      <th>VALOR DE VENDA</th>\n",
       "      <th>VALOR DE COMPRA</th>\n",
       "      <th>UNIDADE DE MEDIDA</th>\n",
       "      <th>BANDEIRA</th>\n",
       "      <th>ANO</th>\n",
       "      <th>MES</th>\n",
       "      <th>NM_MES</th>\n",
       "    </tr>\n",
       "  </thead>\n",
       "  <tbody>\n",
       "    <tr>\n",
       "      <th>0</th>\n",
       "      <td>SE</td>\n",
       "      <td>ES</td>\n",
       "      <td>COLATINA</td>\n",
       "      <td>SAO FRANCISCO DE ASSIS COMERCIO DE COMBUSTIVEI...</td>\n",
       "      <td>08.519.545/0001-10</td>\n",
       "      <td>PRACA FIDELIS FERRARI</td>\n",
       "      <td>35</td>\n",
       "      <td>None</td>\n",
       "      <td>LACE</td>\n",
       "      <td>29703-030</td>\n",
       "      <td>GASOLINA ADITIVADA</td>\n",
       "      <td>2022-07-01</td>\n",
       "      <td>7,48</td>\n",
       "      <td>NaN</td>\n",
       "      <td>R$ / litro</td>\n",
       "      <td>VIBRA ENERGIA</td>\n",
       "      <td>2022</td>\n",
       "      <td>7</td>\n",
       "      <td>JULHO</td>\n",
       "    </tr>\n",
       "  </tbody>\n",
       "</table>\n",
       "</div>"
      ],
      "text/plain": [
       "  REGIAO - SIGLA ESTADO - SIGLA MUNICIPIO  \\\n",
       "0             SE             ES  COLATINA   \n",
       "\n",
       "                                             REVENDA      CNPJ DA REVENDA  \\\n",
       "0  SAO FRANCISCO DE ASSIS COMERCIO DE COMBUSTIVEI...   08.519.545/0001-10   \n",
       "\n",
       "             NOME DA RUA NUMERO RUA COMPLEMENTO BAIRRO        CEP  \\\n",
       "0  PRACA FIDELIS FERRARI         35        None   LACE  29703-030   \n",
       "\n",
       "              PRODUTO DATA DA COLETA VALOR DE VENDA  VALOR DE COMPRA  \\\n",
       "0  GASOLINA ADITIVADA     2022-07-01           7,48              NaN   \n",
       "\n",
       "  UNIDADE DE MEDIDA       BANDEIRA   ANO  MES NM_MES  \n",
       "0        R$ / litro  VIBRA ENERGIA  2022    7  JULHO  "
      ]
     },
     "execution_count": 35,
     "metadata": {},
     "output_type": "execute_result"
    }
   ],
   "source": [
    "df.head(1)"
   ]
  },
  {
   "cell_type": "code",
   "execution_count": 36,
   "id": "7c2f3d79-d615-4619-ac20-42d5eeafbf57",
   "metadata": {
    "tags": []
   },
   "outputs": [],
   "source": [
    "df = df[df.columns.tolist()[-3:] + df.columns.tolist()[:-3]]"
   ]
  },
  {
   "cell_type": "code",
   "execution_count": 37,
   "id": "b4f2b89b-fdc1-42d0-8f27-42bdd0a0a7e7",
   "metadata": {
    "tags": []
   },
   "outputs": [
    {
     "data": {
      "text/html": [
       "<div>\n",
       "<style scoped>\n",
       "    .dataframe tbody tr th:only-of-type {\n",
       "        vertical-align: middle;\n",
       "    }\n",
       "\n",
       "    .dataframe tbody tr th {\n",
       "        vertical-align: top;\n",
       "    }\n",
       "\n",
       "    .dataframe thead th {\n",
       "        text-align: right;\n",
       "    }\n",
       "</style>\n",
       "<table border=\"1\" class=\"dataframe\">\n",
       "  <thead>\n",
       "    <tr style=\"text-align: right;\">\n",
       "      <th></th>\n",
       "      <th>ANO</th>\n",
       "      <th>MES</th>\n",
       "      <th>NM_MES</th>\n",
       "      <th>REGIAO - SIGLA</th>\n",
       "      <th>ESTADO - SIGLA</th>\n",
       "      <th>MUNICIPIO</th>\n",
       "      <th>REVENDA</th>\n",
       "      <th>CNPJ DA REVENDA</th>\n",
       "      <th>NOME DA RUA</th>\n",
       "      <th>NUMERO RUA</th>\n",
       "      <th>COMPLEMENTO</th>\n",
       "      <th>BAIRRO</th>\n",
       "      <th>CEP</th>\n",
       "      <th>PRODUTO</th>\n",
       "      <th>DATA DA COLETA</th>\n",
       "      <th>VALOR DE VENDA</th>\n",
       "      <th>VALOR DE COMPRA</th>\n",
       "      <th>UNIDADE DE MEDIDA</th>\n",
       "      <th>BANDEIRA</th>\n",
       "    </tr>\n",
       "  </thead>\n",
       "  <tbody>\n",
       "    <tr>\n",
       "      <th>0</th>\n",
       "      <td>2022</td>\n",
       "      <td>7</td>\n",
       "      <td>JULHO</td>\n",
       "      <td>SE</td>\n",
       "      <td>ES</td>\n",
       "      <td>COLATINA</td>\n",
       "      <td>SAO FRANCISCO DE ASSIS COMERCIO DE COMBUSTIVEI...</td>\n",
       "      <td>08.519.545/0001-10</td>\n",
       "      <td>PRACA FIDELIS FERRARI</td>\n",
       "      <td>35</td>\n",
       "      <td>None</td>\n",
       "      <td>LACE</td>\n",
       "      <td>29703-030</td>\n",
       "      <td>GASOLINA ADITIVADA</td>\n",
       "      <td>2022-07-01</td>\n",
       "      <td>7,48</td>\n",
       "      <td>NaN</td>\n",
       "      <td>R$ / litro</td>\n",
       "      <td>VIBRA ENERGIA</td>\n",
       "    </tr>\n",
       "  </tbody>\n",
       "</table>\n",
       "</div>"
      ],
      "text/plain": [
       "    ANO  MES NM_MES REGIAO - SIGLA ESTADO - SIGLA MUNICIPIO  \\\n",
       "0  2022    7  JULHO             SE             ES  COLATINA   \n",
       "\n",
       "                                             REVENDA      CNPJ DA REVENDA  \\\n",
       "0  SAO FRANCISCO DE ASSIS COMERCIO DE COMBUSTIVEI...   08.519.545/0001-10   \n",
       "\n",
       "             NOME DA RUA NUMERO RUA COMPLEMENTO BAIRRO        CEP  \\\n",
       "0  PRACA FIDELIS FERRARI         35        None   LACE  29703-030   \n",
       "\n",
       "              PRODUTO DATA DA COLETA VALOR DE VENDA  VALOR DE COMPRA  \\\n",
       "0  GASOLINA ADITIVADA     2022-07-01           7,48              NaN   \n",
       "\n",
       "  UNIDADE DE MEDIDA       BANDEIRA  \n",
       "0        R$ / litro  VIBRA ENERGIA  "
      ]
     },
     "execution_count": 37,
     "metadata": {},
     "output_type": "execute_result"
    }
   ],
   "source": [
    "df.head(1)"
   ]
  },
  {
   "cell_type": "code",
   "execution_count": 38,
   "id": "95402d98-02c7-4208-87a8-c9957d78f2c6",
   "metadata": {
    "tags": []
   },
   "outputs": [
    {
     "data": {
      "text/plain": [
       "['AC',\n",
       " 'AL',\n",
       " 'AM',\n",
       " 'AP',\n",
       " 'BA',\n",
       " 'CE',\n",
       " 'DF',\n",
       " 'ES',\n",
       " 'GO',\n",
       " 'MA',\n",
       " 'MG',\n",
       " 'MS',\n",
       " 'MT',\n",
       " 'PA',\n",
       " 'PB',\n",
       " 'PE',\n",
       " 'PI',\n",
       " 'PR',\n",
       " 'RJ',\n",
       " 'RN',\n",
       " 'RO',\n",
       " 'RR',\n",
       " 'RS',\n",
       " 'SC',\n",
       " 'SE',\n",
       " 'SP',\n",
       " 'TO']"
      ]
     },
     "execution_count": 38,
     "metadata": {},
     "output_type": "execute_result"
    }
   ],
   "source": [
    "df['ESTADO - SIGLA'].sort_values().unique().tolist()"
   ]
  },
  {
   "cell_type": "code",
   "execution_count": 39,
   "id": "8d561796-23c8-421a-bd90-02a747e73c74",
   "metadata": {
    "tags": []
   },
   "outputs": [],
   "source": [
    "df['VALOR DE VENDA'] = round(df['VALOR DE VENDA'].apply(lambda x: x.replace(',', '.')).astype(float), 2)"
   ]
  },
  {
   "cell_type": "code",
   "execution_count": 40,
   "id": "0fd039e5-7a66-4aa1-9a6d-6ff29b0cd564",
   "metadata": {
    "tags": []
   },
   "outputs": [
    {
     "data": {
      "text/plain": [
       "0    7.48\n",
       "1    7.38\n",
       "2    7.69\n",
       "3    5.99\n",
       "4    7.39\n",
       "Name: VALOR DE VENDA, dtype: float64"
      ]
     },
     "execution_count": 40,
     "metadata": {},
     "output_type": "execute_result"
    }
   ],
   "source": [
    "df['VALOR DE VENDA'].head()"
   ]
  },
  {
   "cell_type": "code",
   "execution_count": 41,
   "id": "3c8fbd01-2c8c-48b1-bd36-9934e991c136",
   "metadata": {
    "tags": []
   },
   "outputs": [],
   "source": [
    "siglas_nomes = {\n",
    "\"AC\": \"Acre\",\n",
    "\"AL\": \"Alagoas\",\n",
    "\"AP\": \"Amapá\",\n",
    "\"AM\": \"Amazonas\",\n",
    "\"BA\": \"Bahia\",\n",
    "\"CE\": \"Ceará\",\n",
    "\"DF\": \"Distrito Federal\",\n",
    "\"ES\": \"Espirito Santo\",\n",
    "\"GO\": \"Goiás\",\n",
    "\"MA\": \"Maranhão\",\n",
    "\"MS\": \"Mato Grosso do Sul\",\n",
    "\"MT\": \"Mato Grosso\",\n",
    "\"MG\": \"Minas Gerais\",\n",
    "\"PA\": \"Pará\",\n",
    "\"PB\": \"Paraíba\",\n",
    "\"PR\": \"Paraná\",\n",
    "\"PE\": \"Pernambuco\",\n",
    "\"PI\": \"Piauí\",\n",
    "\"RJ\": \"Rio de Janeiro\",\n",
    "\"RS\": \"Rio Grande do Sul\",\n",
    "\"RO\": \"Rondônia\",\n",
    "\"RR\": \"Roraima\",\n",
    "\"SC\": \"Santa Catarina\",\n",
    "\"SP\": \"São Paulo\",\n",
    "\"SE\": \"Sergipe\",\n",
    "\"TO\": \"Tocantins\",\n",
    "}"
   ]
  },
  {
   "cell_type": "code",
   "execution_count": 42,
   "id": "c04e4556-9c06-4955-875e-f015ad83682a",
   "metadata": {
    "tags": []
   },
   "outputs": [],
   "source": [
    "for chave in siglas_nomes.keys():\n",
    "    \n",
    "    df.loc[\n",
    "        df['ESTADO - SIGLA'] == chave,\n",
    "        'NM_ESTADO'    ] = siglas_nomes[chave].upper()"
   ]
  },
  {
   "cell_type": "code",
   "execution_count": 43,
   "id": "77d7ba1e-9991-4baf-bcdb-dc38f0a47c9a",
   "metadata": {
    "tags": []
   },
   "outputs": [
    {
     "data": {
      "text/html": [
       "<div>\n",
       "<style scoped>\n",
       "    .dataframe tbody tr th:only-of-type {\n",
       "        vertical-align: middle;\n",
       "    }\n",
       "\n",
       "    .dataframe tbody tr th {\n",
       "        vertical-align: top;\n",
       "    }\n",
       "\n",
       "    .dataframe thead th {\n",
       "        text-align: right;\n",
       "    }\n",
       "</style>\n",
       "<table border=\"1\" class=\"dataframe\">\n",
       "  <thead>\n",
       "    <tr style=\"text-align: right;\">\n",
       "      <th></th>\n",
       "      <th>ANO</th>\n",
       "      <th>MES</th>\n",
       "      <th>NM_MES</th>\n",
       "      <th>REGIAO - SIGLA</th>\n",
       "      <th>ESTADO - SIGLA</th>\n",
       "      <th>MUNICIPIO</th>\n",
       "      <th>REVENDA</th>\n",
       "      <th>CNPJ DA REVENDA</th>\n",
       "      <th>NOME DA RUA</th>\n",
       "      <th>NUMERO RUA</th>\n",
       "      <th>COMPLEMENTO</th>\n",
       "      <th>BAIRRO</th>\n",
       "      <th>CEP</th>\n",
       "      <th>PRODUTO</th>\n",
       "      <th>DATA DA COLETA</th>\n",
       "      <th>VALOR DE VENDA</th>\n",
       "      <th>VALOR DE COMPRA</th>\n",
       "      <th>UNIDADE DE MEDIDA</th>\n",
       "      <th>BANDEIRA</th>\n",
       "      <th>NM_ESTADO</th>\n",
       "    </tr>\n",
       "  </thead>\n",
       "  <tbody>\n",
       "    <tr>\n",
       "      <th>0</th>\n",
       "      <td>2022</td>\n",
       "      <td>7</td>\n",
       "      <td>JULHO</td>\n",
       "      <td>SE</td>\n",
       "      <td>ES</td>\n",
       "      <td>COLATINA</td>\n",
       "      <td>SAO FRANCISCO DE ASSIS COMERCIO DE COMBUSTIVEI...</td>\n",
       "      <td>08.519.545/0001-10</td>\n",
       "      <td>PRACA FIDELIS FERRARI</td>\n",
       "      <td>35</td>\n",
       "      <td>None</td>\n",
       "      <td>LACE</td>\n",
       "      <td>29703-030</td>\n",
       "      <td>GASOLINA ADITIVADA</td>\n",
       "      <td>2022-07-01</td>\n",
       "      <td>7.48</td>\n",
       "      <td>NaN</td>\n",
       "      <td>R$ / litro</td>\n",
       "      <td>VIBRA ENERGIA</td>\n",
       "      <td>ESPIRITO SANTO</td>\n",
       "    </tr>\n",
       "  </tbody>\n",
       "</table>\n",
       "</div>"
      ],
      "text/plain": [
       "    ANO  MES NM_MES REGIAO - SIGLA ESTADO - SIGLA MUNICIPIO  \\\n",
       "0  2022    7  JULHO             SE             ES  COLATINA   \n",
       "\n",
       "                                             REVENDA      CNPJ DA REVENDA  \\\n",
       "0  SAO FRANCISCO DE ASSIS COMERCIO DE COMBUSTIVEI...   08.519.545/0001-10   \n",
       "\n",
       "             NOME DA RUA NUMERO RUA COMPLEMENTO BAIRRO        CEP  \\\n",
       "0  PRACA FIDELIS FERRARI         35        None   LACE  29703-030   \n",
       "\n",
       "              PRODUTO DATA DA COLETA  VALOR DE VENDA  VALOR DE COMPRA  \\\n",
       "0  GASOLINA ADITIVADA     2022-07-01            7.48              NaN   \n",
       "\n",
       "  UNIDADE DE MEDIDA       BANDEIRA       NM_ESTADO  \n",
       "0        R$ / litro  VIBRA ENERGIA  ESPIRITO SANTO  "
      ]
     },
     "execution_count": 43,
     "metadata": {},
     "output_type": "execute_result"
    }
   ],
   "source": [
    "df.head(1)"
   ]
  },
  {
   "cell_type": "code",
   "execution_count": 44,
   "id": "d0a59a61-e4d8-45dc-88ac-e788348a72a7",
   "metadata": {
    "tags": []
   },
   "outputs": [
    {
     "data": {
      "text/plain": [
       "['ANO',\n",
       " 'MES',\n",
       " 'NM_MES',\n",
       " 'REGIAO - SIGLA',\n",
       " 'ESTADO - SIGLA',\n",
       " 'MUNICIPIO',\n",
       " 'REVENDA',\n",
       " 'CNPJ DA REVENDA',\n",
       " 'NOME DA RUA',\n",
       " 'NUMERO RUA',\n",
       " 'COMPLEMENTO',\n",
       " 'BAIRRO',\n",
       " 'CEP',\n",
       " 'PRODUTO',\n",
       " 'DATA DA COLETA',\n",
       " 'VALOR DE VENDA',\n",
       " 'VALOR DE COMPRA',\n",
       " 'UNIDADE DE MEDIDA',\n",
       " 'BANDEIRA',\n",
       " 'NM_ESTADO']"
      ]
     },
     "execution_count": 44,
     "metadata": {},
     "output_type": "execute_result"
    }
   ],
   "source": [
    "df.columns.tolist()"
   ]
  },
  {
   "cell_type": "code",
   "execution_count": 45,
   "id": "c0b4a3a2-3fc2-4de3-b815-cf79d91f1434",
   "metadata": {
    "tags": []
   },
   "outputs": [],
   "source": [
    "df = df[['ANO',\n",
    " 'MES',\n",
    " 'NM_MES',\n",
    " 'REGIAO - SIGLA',\n",
    " 'ESTADO - SIGLA',\n",
    " 'NM_ESTADO',\n",
    " 'MUNICIPIO',\n",
    " 'REVENDA',\n",
    " 'CNPJ DA REVENDA',\n",
    " 'NOME DA RUA',\n",
    " 'NUMERO RUA',\n",
    " 'COMPLEMENTO',\n",
    " 'BAIRRO',\n",
    " 'CEP',\n",
    " 'PRODUTO',\n",
    " 'DATA DA COLETA',\n",
    " 'VALOR DE VENDA',\n",
    " 'VALOR DE COMPRA',\n",
    " 'UNIDADE DE MEDIDA',\n",
    " 'BANDEIRA']]"
   ]
  },
  {
   "cell_type": "code",
   "execution_count": 46,
   "id": "d676c7ad-3957-4643-aa9e-cc5d91ffccd4",
   "metadata": {
    "tags": []
   },
   "outputs": [],
   "source": [
    "df_states = df.groupby([\n",
    "    'ANO', 'MES', 'NM_MES', 'REGIAO - SIGLA', 'ESTADO - SIGLA', 'NM_ESTADO', 'MUNICIPIO', 'PRODUTO'\n",
    "])['VALOR DE VENDA'].mean().reset_index().rename(columns= {'VALOR DE VENDA': 'VL_MEDIO_VENDA'})"
   ]
  },
  {
   "cell_type": "code",
   "execution_count": 47,
   "id": "1d65a848-31dd-42b3-a0d3-91371ecf8193",
   "metadata": {
    "tags": []
   },
   "outputs": [],
   "source": [
    "df_states['VL_MEDIO_VENDA'] = round(df_states['VL_MEDIO_VENDA'], 2)"
   ]
  },
  {
   "cell_type": "code",
   "execution_count": 48,
   "id": "8e572147-4313-472f-9692-022cb3e2f74e",
   "metadata": {
    "tags": []
   },
   "outputs": [
    {
     "data": {
      "text/html": [
       "<div>\n",
       "<style scoped>\n",
       "    .dataframe tbody tr th:only-of-type {\n",
       "        vertical-align: middle;\n",
       "    }\n",
       "\n",
       "    .dataframe tbody tr th {\n",
       "        vertical-align: top;\n",
       "    }\n",
       "\n",
       "    .dataframe thead th {\n",
       "        text-align: right;\n",
       "    }\n",
       "</style>\n",
       "<table border=\"1\" class=\"dataframe\">\n",
       "  <thead>\n",
       "    <tr style=\"text-align: right;\">\n",
       "      <th></th>\n",
       "      <th>ANO</th>\n",
       "      <th>MES</th>\n",
       "      <th>NM_MES</th>\n",
       "      <th>REGIAO - SIGLA</th>\n",
       "      <th>ESTADO - SIGLA</th>\n",
       "      <th>NM_ESTADO</th>\n",
       "      <th>MUNICIPIO</th>\n",
       "      <th>PRODUTO</th>\n",
       "      <th>VL_MEDIO_VENDA</th>\n",
       "    </tr>\n",
       "  </thead>\n",
       "  <tbody>\n",
       "    <tr>\n",
       "      <th>0</th>\n",
       "      <td>2022</td>\n",
       "      <td>1</td>\n",
       "      <td>JANEIRO</td>\n",
       "      <td>CO</td>\n",
       "      <td>DF</td>\n",
       "      <td>DISTRITO FEDERAL</td>\n",
       "      <td>BRASILIA</td>\n",
       "      <td>DIESEL</td>\n",
       "      <td>5.49</td>\n",
       "    </tr>\n",
       "  </tbody>\n",
       "</table>\n",
       "</div>"
      ],
      "text/plain": [
       "    ANO  MES   NM_MES REGIAO - SIGLA ESTADO - SIGLA         NM_ESTADO  \\\n",
       "0  2022    1  JANEIRO             CO             DF  DISTRITO FEDERAL   \n",
       "\n",
       "  MUNICIPIO PRODUTO  VL_MEDIO_VENDA  \n",
       "0  BRASILIA  DIESEL            5.49  "
      ]
     },
     "execution_count": 48,
     "metadata": {},
     "output_type": "execute_result"
    }
   ],
   "source": [
    "df_states.head(1)"
   ]
  },
  {
   "cell_type": "code",
   "execution_count": 49,
   "id": "f369b79e-8b42-40f3-8d5f-5bceefd80c50",
   "metadata": {
    "tags": []
   },
   "outputs": [],
   "source": [
    "df_years = pd.merge(\n",
    "    df.groupby(['ANO', 'PRODUTO'])['VALOR DE VENDA'].mean().reset_index().rename(columns= {'VALOR DE VENDA': 'VL_MEDIO_VENDA'}),\n",
    "    df.groupby(['ANO', 'PRODUTO'])['VALOR DE VENDA'].max().reset_index().rename(columns= {'VALOR DE VENDA': 'VL_MAX_VENDA'}),\n",
    "    on= ['ANO', 'PRODUTO'],\n",
    "    how= 'left'\n",
    ").merge(\n",
    "    df.groupby(['ANO', 'PRODUTO'])['VALOR DE VENDA'].min().reset_index().rename(columns= {'VALOR DE VENDA': 'VL_MIN_VENDA'}),\n",
    "    on= ['ANO', 'PRODUTO'],\n",
    "    how= 'left'\n",
    "    )"
   ]
  },
  {
   "cell_type": "code",
   "execution_count": 50,
   "id": "49afd689-8a57-4ab4-bd21-607826824d4d",
   "metadata": {
    "tags": []
   },
   "outputs": [
    {
     "data": {
      "text/html": [
       "<div>\n",
       "<style scoped>\n",
       "    .dataframe tbody tr th:only-of-type {\n",
       "        vertical-align: middle;\n",
       "    }\n",
       "\n",
       "    .dataframe tbody tr th {\n",
       "        vertical-align: top;\n",
       "    }\n",
       "\n",
       "    .dataframe thead th {\n",
       "        text-align: right;\n",
       "    }\n",
       "</style>\n",
       "<table border=\"1\" class=\"dataframe\">\n",
       "  <thead>\n",
       "    <tr style=\"text-align: right;\">\n",
       "      <th></th>\n",
       "      <th>ANO</th>\n",
       "      <th>MES</th>\n",
       "      <th>NM_MES</th>\n",
       "      <th>REGIAO - SIGLA</th>\n",
       "      <th>ESTADO - SIGLA</th>\n",
       "      <th>NM_ESTADO</th>\n",
       "      <th>MUNICIPIO</th>\n",
       "      <th>REVENDA</th>\n",
       "      <th>CNPJ DA REVENDA</th>\n",
       "      <th>NOME DA RUA</th>\n",
       "      <th>NUMERO RUA</th>\n",
       "      <th>COMPLEMENTO</th>\n",
       "      <th>BAIRRO</th>\n",
       "      <th>CEP</th>\n",
       "      <th>PRODUTO</th>\n",
       "      <th>DATA DA COLETA</th>\n",
       "      <th>VALOR DE VENDA</th>\n",
       "      <th>VALOR DE COMPRA</th>\n",
       "      <th>UNIDADE DE MEDIDA</th>\n",
       "      <th>BANDEIRA</th>\n",
       "    </tr>\n",
       "  </thead>\n",
       "  <tbody>\n",
       "    <tr>\n",
       "      <th>0</th>\n",
       "      <td>2022</td>\n",
       "      <td>7</td>\n",
       "      <td>JULHO</td>\n",
       "      <td>SE</td>\n",
       "      <td>ES</td>\n",
       "      <td>ESPIRITO SANTO</td>\n",
       "      <td>COLATINA</td>\n",
       "      <td>SAO FRANCISCO DE ASSIS COMERCIO DE COMBUSTIVEI...</td>\n",
       "      <td>08.519.545/0001-10</td>\n",
       "      <td>PRACA FIDELIS FERRARI</td>\n",
       "      <td>35</td>\n",
       "      <td>None</td>\n",
       "      <td>LACE</td>\n",
       "      <td>29703-030</td>\n",
       "      <td>GASOLINA ADITIVADA</td>\n",
       "      <td>2022-07-01</td>\n",
       "      <td>7.48</td>\n",
       "      <td>NaN</td>\n",
       "      <td>R$ / litro</td>\n",
       "      <td>VIBRA ENERGIA</td>\n",
       "    </tr>\n",
       "  </tbody>\n",
       "</table>\n",
       "</div>"
      ],
      "text/plain": [
       "    ANO  MES NM_MES REGIAO - SIGLA ESTADO - SIGLA       NM_ESTADO MUNICIPIO  \\\n",
       "0  2022    7  JULHO             SE             ES  ESPIRITO SANTO  COLATINA   \n",
       "\n",
       "                                             REVENDA      CNPJ DA REVENDA  \\\n",
       "0  SAO FRANCISCO DE ASSIS COMERCIO DE COMBUSTIVEI...   08.519.545/0001-10   \n",
       "\n",
       "             NOME DA RUA NUMERO RUA COMPLEMENTO BAIRRO        CEP  \\\n",
       "0  PRACA FIDELIS FERRARI         35        None   LACE  29703-030   \n",
       "\n",
       "              PRODUTO DATA DA COLETA  VALOR DE VENDA  VALOR DE COMPRA  \\\n",
       "0  GASOLINA ADITIVADA     2022-07-01            7.48              NaN   \n",
       "\n",
       "  UNIDADE DE MEDIDA       BANDEIRA  \n",
       "0        R$ / litro  VIBRA ENERGIA  "
      ]
     },
     "execution_count": 50,
     "metadata": {},
     "output_type": "execute_result"
    }
   ],
   "source": [
    "df.head(1)"
   ]
  },
  {
   "cell_type": "code",
   "execution_count": 51,
   "id": "60d40e7c-a5e7-46b3-a077-184e22ce5520",
   "metadata": {
    "tags": []
   },
   "outputs": [],
   "source": [
    "df_years = pd.merge(\n",
    "    df_years,\n",
    "    df.groupby(['ANO', 'PRODUTO'])['REVENDA'].count().reset_index().rename(columns= {'REVENDA': 'QT_COLETADO'})\n",
    ")"
   ]
  },
  {
   "cell_type": "code",
   "execution_count": 52,
   "id": "c9ef71be-ac6a-4be4-8750-f75a7bf0f6d0",
   "metadata": {
    "tags": []
   },
   "outputs": [
    {
     "data": {
      "text/html": [
       "<div>\n",
       "<style scoped>\n",
       "    .dataframe tbody tr th:only-of-type {\n",
       "        vertical-align: middle;\n",
       "    }\n",
       "\n",
       "    .dataframe tbody tr th {\n",
       "        vertical-align: top;\n",
       "    }\n",
       "\n",
       "    .dataframe thead th {\n",
       "        text-align: right;\n",
       "    }\n",
       "</style>\n",
       "<table border=\"1\" class=\"dataframe\">\n",
       "  <thead>\n",
       "    <tr style=\"text-align: right;\">\n",
       "      <th></th>\n",
       "      <th>ANO</th>\n",
       "      <th>PRODUTO</th>\n",
       "      <th>VL_MEDIO_VENDA</th>\n",
       "      <th>VL_MAX_VENDA</th>\n",
       "      <th>VL_MIN_VENDA</th>\n",
       "      <th>QT_COLETADO</th>\n",
       "    </tr>\n",
       "  </thead>\n",
       "  <tbody>\n",
       "    <tr>\n",
       "      <th>0</th>\n",
       "      <td>2022</td>\n",
       "      <td>DIESEL</td>\n",
       "      <td>6.631457</td>\n",
       "      <td>9.00</td>\n",
       "      <td>3.14</td>\n",
       "      <td>102477</td>\n",
       "    </tr>\n",
       "    <tr>\n",
       "      <th>1</th>\n",
       "      <td>2022</td>\n",
       "      <td>DIESEL S10</td>\n",
       "      <td>6.734393</td>\n",
       "      <td>9.65</td>\n",
       "      <td>3.59</td>\n",
       "      <td>184760</td>\n",
       "    </tr>\n",
       "    <tr>\n",
       "      <th>2</th>\n",
       "      <td>2022</td>\n",
       "      <td>ETANOL</td>\n",
       "      <td>4.851732</td>\n",
       "      <td>7.98</td>\n",
       "      <td>2.49</td>\n",
       "      <td>201350</td>\n",
       "    </tr>\n",
       "    <tr>\n",
       "      <th>3</th>\n",
       "      <td>2022</td>\n",
       "      <td>GASOLINA</td>\n",
       "      <td>6.317327</td>\n",
       "      <td>8.99</td>\n",
       "      <td>3.49</td>\n",
       "      <td>228810</td>\n",
       "    </tr>\n",
       "    <tr>\n",
       "      <th>4</th>\n",
       "      <td>2022</td>\n",
       "      <td>GASOLINA ADITIVADA</td>\n",
       "      <td>6.472456</td>\n",
       "      <td>9.28</td>\n",
       "      <td>4.09</td>\n",
       "      <td>172855</td>\n",
       "    </tr>\n",
       "    <tr>\n",
       "      <th>5</th>\n",
       "      <td>2022</td>\n",
       "      <td>GNV</td>\n",
       "      <td>5.042833</td>\n",
       "      <td>7.99</td>\n",
       "      <td>3.17</td>\n",
       "      <td>17250</td>\n",
       "    </tr>\n",
       "    <tr>\n",
       "      <th>6</th>\n",
       "      <td>2023</td>\n",
       "      <td>DIESEL</td>\n",
       "      <td>5.758133</td>\n",
       "      <td>7.99</td>\n",
       "      <td>3.97</td>\n",
       "      <td>106136</td>\n",
       "    </tr>\n",
       "    <tr>\n",
       "      <th>7</th>\n",
       "      <td>2023</td>\n",
       "      <td>DIESEL S10</td>\n",
       "      <td>5.859705</td>\n",
       "      <td>9.00</td>\n",
       "      <td>4.19</td>\n",
       "      <td>168461</td>\n",
       "    </tr>\n",
       "    <tr>\n",
       "      <th>8</th>\n",
       "      <td>2023</td>\n",
       "      <td>ETANOL</td>\n",
       "      <td>4.004911</td>\n",
       "      <td>6.96</td>\n",
       "      <td>2.69</td>\n",
       "      <td>197849</td>\n",
       "    </tr>\n",
       "    <tr>\n",
       "      <th>9</th>\n",
       "      <td>2023</td>\n",
       "      <td>GASOLINA</td>\n",
       "      <td>5.528898</td>\n",
       "      <td>8.19</td>\n",
       "      <td>4.09</td>\n",
       "      <td>232085</td>\n",
       "    </tr>\n",
       "    <tr>\n",
       "      <th>10</th>\n",
       "      <td>2023</td>\n",
       "      <td>GASOLINA ADITIVADA</td>\n",
       "      <td>5.710753</td>\n",
       "      <td>9.79</td>\n",
       "      <td>3.47</td>\n",
       "      <td>180978</td>\n",
       "    </tr>\n",
       "    <tr>\n",
       "      <th>11</th>\n",
       "      <td>2023</td>\n",
       "      <td>GNV</td>\n",
       "      <td>4.643232</td>\n",
       "      <td>6.71</td>\n",
       "      <td>2.39</td>\n",
       "      <td>18491</td>\n",
       "    </tr>\n",
       "  </tbody>\n",
       "</table>\n",
       "</div>"
      ],
      "text/plain": [
       "     ANO             PRODUTO  VL_MEDIO_VENDA  VL_MAX_VENDA  VL_MIN_VENDA  \\\n",
       "0   2022              DIESEL        6.631457          9.00          3.14   \n",
       "1   2022          DIESEL S10        6.734393          9.65          3.59   \n",
       "2   2022              ETANOL        4.851732          7.98          2.49   \n",
       "3   2022            GASOLINA        6.317327          8.99          3.49   \n",
       "4   2022  GASOLINA ADITIVADA        6.472456          9.28          4.09   \n",
       "5   2022                 GNV        5.042833          7.99          3.17   \n",
       "6   2023              DIESEL        5.758133          7.99          3.97   \n",
       "7   2023          DIESEL S10        5.859705          9.00          4.19   \n",
       "8   2023              ETANOL        4.004911          6.96          2.69   \n",
       "9   2023            GASOLINA        5.528898          8.19          4.09   \n",
       "10  2023  GASOLINA ADITIVADA        5.710753          9.79          3.47   \n",
       "11  2023                 GNV        4.643232          6.71          2.39   \n",
       "\n",
       "    QT_COLETADO  \n",
       "0        102477  \n",
       "1        184760  \n",
       "2        201350  \n",
       "3        228810  \n",
       "4        172855  \n",
       "5         17250  \n",
       "6        106136  \n",
       "7        168461  \n",
       "8        197849  \n",
       "9        232085  \n",
       "10       180978  \n",
       "11        18491  "
      ]
     },
     "execution_count": 52,
     "metadata": {},
     "output_type": "execute_result"
    }
   ],
   "source": [
    "df_years"
   ]
  },
  {
   "cell_type": "code",
   "execution_count": 53,
   "id": "cb72fc8c-bf79-477c-8535-9a1ab870ce90",
   "metadata": {
    "tags": []
   },
   "outputs": [],
   "source": [
    "df_years['VL_MEDIO_VENDA'] = round(df_years['VL_MEDIO_VENDA'], 2)"
   ]
  },
  {
   "cell_type": "code",
   "execution_count": 54,
   "id": "89414847-97b6-4b48-a666-4a79516dcf9b",
   "metadata": {
    "tags": []
   },
   "outputs": [
    {
     "data": {
      "text/html": [
       "<div>\n",
       "<style scoped>\n",
       "    .dataframe tbody tr th:only-of-type {\n",
       "        vertical-align: middle;\n",
       "    }\n",
       "\n",
       "    .dataframe tbody tr th {\n",
       "        vertical-align: top;\n",
       "    }\n",
       "\n",
       "    .dataframe thead th {\n",
       "        text-align: right;\n",
       "    }\n",
       "</style>\n",
       "<table border=\"1\" class=\"dataframe\">\n",
       "  <thead>\n",
       "    <tr style=\"text-align: right;\">\n",
       "      <th></th>\n",
       "      <th>ANO</th>\n",
       "      <th>PRODUTO</th>\n",
       "      <th>VL_MEDIO_VENDA</th>\n",
       "      <th>VL_MAX_VENDA</th>\n",
       "      <th>VL_MIN_VENDA</th>\n",
       "      <th>QT_COLETADO</th>\n",
       "    </tr>\n",
       "  </thead>\n",
       "  <tbody>\n",
       "    <tr>\n",
       "      <th>0</th>\n",
       "      <td>2022</td>\n",
       "      <td>DIESEL</td>\n",
       "      <td>6.63</td>\n",
       "      <td>9.00</td>\n",
       "      <td>3.14</td>\n",
       "      <td>102477</td>\n",
       "    </tr>\n",
       "    <tr>\n",
       "      <th>1</th>\n",
       "      <td>2022</td>\n",
       "      <td>DIESEL S10</td>\n",
       "      <td>6.73</td>\n",
       "      <td>9.65</td>\n",
       "      <td>3.59</td>\n",
       "      <td>184760</td>\n",
       "    </tr>\n",
       "    <tr>\n",
       "      <th>2</th>\n",
       "      <td>2022</td>\n",
       "      <td>ETANOL</td>\n",
       "      <td>4.85</td>\n",
       "      <td>7.98</td>\n",
       "      <td>2.49</td>\n",
       "      <td>201350</td>\n",
       "    </tr>\n",
       "    <tr>\n",
       "      <th>3</th>\n",
       "      <td>2022</td>\n",
       "      <td>GASOLINA</td>\n",
       "      <td>6.32</td>\n",
       "      <td>8.99</td>\n",
       "      <td>3.49</td>\n",
       "      <td>228810</td>\n",
       "    </tr>\n",
       "    <tr>\n",
       "      <th>4</th>\n",
       "      <td>2022</td>\n",
       "      <td>GASOLINA ADITIVADA</td>\n",
       "      <td>6.47</td>\n",
       "      <td>9.28</td>\n",
       "      <td>4.09</td>\n",
       "      <td>172855</td>\n",
       "    </tr>\n",
       "    <tr>\n",
       "      <th>5</th>\n",
       "      <td>2022</td>\n",
       "      <td>GNV</td>\n",
       "      <td>5.04</td>\n",
       "      <td>7.99</td>\n",
       "      <td>3.17</td>\n",
       "      <td>17250</td>\n",
       "    </tr>\n",
       "    <tr>\n",
       "      <th>6</th>\n",
       "      <td>2023</td>\n",
       "      <td>DIESEL</td>\n",
       "      <td>5.76</td>\n",
       "      <td>7.99</td>\n",
       "      <td>3.97</td>\n",
       "      <td>106136</td>\n",
       "    </tr>\n",
       "    <tr>\n",
       "      <th>7</th>\n",
       "      <td>2023</td>\n",
       "      <td>DIESEL S10</td>\n",
       "      <td>5.86</td>\n",
       "      <td>9.00</td>\n",
       "      <td>4.19</td>\n",
       "      <td>168461</td>\n",
       "    </tr>\n",
       "    <tr>\n",
       "      <th>8</th>\n",
       "      <td>2023</td>\n",
       "      <td>ETANOL</td>\n",
       "      <td>4.00</td>\n",
       "      <td>6.96</td>\n",
       "      <td>2.69</td>\n",
       "      <td>197849</td>\n",
       "    </tr>\n",
       "    <tr>\n",
       "      <th>9</th>\n",
       "      <td>2023</td>\n",
       "      <td>GASOLINA</td>\n",
       "      <td>5.53</td>\n",
       "      <td>8.19</td>\n",
       "      <td>4.09</td>\n",
       "      <td>232085</td>\n",
       "    </tr>\n",
       "    <tr>\n",
       "      <th>10</th>\n",
       "      <td>2023</td>\n",
       "      <td>GASOLINA ADITIVADA</td>\n",
       "      <td>5.71</td>\n",
       "      <td>9.79</td>\n",
       "      <td>3.47</td>\n",
       "      <td>180978</td>\n",
       "    </tr>\n",
       "    <tr>\n",
       "      <th>11</th>\n",
       "      <td>2023</td>\n",
       "      <td>GNV</td>\n",
       "      <td>4.64</td>\n",
       "      <td>6.71</td>\n",
       "      <td>2.39</td>\n",
       "      <td>18491</td>\n",
       "    </tr>\n",
       "  </tbody>\n",
       "</table>\n",
       "</div>"
      ],
      "text/plain": [
       "     ANO             PRODUTO  VL_MEDIO_VENDA  VL_MAX_VENDA  VL_MIN_VENDA  \\\n",
       "0   2022              DIESEL            6.63          9.00          3.14   \n",
       "1   2022          DIESEL S10            6.73          9.65          3.59   \n",
       "2   2022              ETANOL            4.85          7.98          2.49   \n",
       "3   2022            GASOLINA            6.32          8.99          3.49   \n",
       "4   2022  GASOLINA ADITIVADA            6.47          9.28          4.09   \n",
       "5   2022                 GNV            5.04          7.99          3.17   \n",
       "6   2023              DIESEL            5.76          7.99          3.97   \n",
       "7   2023          DIESEL S10            5.86          9.00          4.19   \n",
       "8   2023              ETANOL            4.00          6.96          2.69   \n",
       "9   2023            GASOLINA            5.53          8.19          4.09   \n",
       "10  2023  GASOLINA ADITIVADA            5.71          9.79          3.47   \n",
       "11  2023                 GNV            4.64          6.71          2.39   \n",
       "\n",
       "    QT_COLETADO  \n",
       "0        102477  \n",
       "1        184760  \n",
       "2        201350  \n",
       "3        228810  \n",
       "4        172855  \n",
       "5         17250  \n",
       "6        106136  \n",
       "7        168461  \n",
       "8        197849  \n",
       "9        232085  \n",
       "10       180978  \n",
       "11        18491  "
      ]
     },
     "execution_count": 54,
     "metadata": {},
     "output_type": "execute_result"
    }
   ],
   "source": [
    "df_years"
   ]
  },
  {
   "cell_type": "code",
   "execution_count": 55,
   "id": "10503374-458c-4567-be2a-223ad62495fc",
   "metadata": {
    "tags": []
   },
   "outputs": [
    {
     "data": {
      "text/html": [
       "<div>\n",
       "<style scoped>\n",
       "    .dataframe tbody tr th:only-of-type {\n",
       "        vertical-align: middle;\n",
       "    }\n",
       "\n",
       "    .dataframe tbody tr th {\n",
       "        vertical-align: top;\n",
       "    }\n",
       "\n",
       "    .dataframe thead th {\n",
       "        text-align: right;\n",
       "    }\n",
       "</style>\n",
       "<table border=\"1\" class=\"dataframe\">\n",
       "  <thead>\n",
       "    <tr style=\"text-align: right;\">\n",
       "      <th></th>\n",
       "      <th>ANO</th>\n",
       "      <th>MES</th>\n",
       "      <th>NM_MES</th>\n",
       "      <th>REGIAO - SIGLA</th>\n",
       "      <th>ESTADO - SIGLA</th>\n",
       "      <th>NM_ESTADO</th>\n",
       "      <th>MUNICIPIO</th>\n",
       "      <th>PRODUTO</th>\n",
       "      <th>VL_MEDIO_VENDA</th>\n",
       "    </tr>\n",
       "  </thead>\n",
       "  <tbody>\n",
       "    <tr>\n",
       "      <th>0</th>\n",
       "      <td>2022</td>\n",
       "      <td>1</td>\n",
       "      <td>JANEIRO</td>\n",
       "      <td>CO</td>\n",
       "      <td>DF</td>\n",
       "      <td>DISTRITO FEDERAL</td>\n",
       "      <td>BRASILIA</td>\n",
       "      <td>DIESEL</td>\n",
       "      <td>5.49</td>\n",
       "    </tr>\n",
       "    <tr>\n",
       "      <th>1</th>\n",
       "      <td>2022</td>\n",
       "      <td>1</td>\n",
       "      <td>JANEIRO</td>\n",
       "      <td>CO</td>\n",
       "      <td>DF</td>\n",
       "      <td>DISTRITO FEDERAL</td>\n",
       "      <td>BRASILIA</td>\n",
       "      <td>DIESEL S10</td>\n",
       "      <td>5.61</td>\n",
       "    </tr>\n",
       "    <tr>\n",
       "      <th>2</th>\n",
       "      <td>2022</td>\n",
       "      <td>1</td>\n",
       "      <td>JANEIRO</td>\n",
       "      <td>CO</td>\n",
       "      <td>DF</td>\n",
       "      <td>DISTRITO FEDERAL</td>\n",
       "      <td>BRASILIA</td>\n",
       "      <td>ETANOL</td>\n",
       "      <td>5.81</td>\n",
       "    </tr>\n",
       "    <tr>\n",
       "      <th>3</th>\n",
       "      <td>2022</td>\n",
       "      <td>1</td>\n",
       "      <td>JANEIRO</td>\n",
       "      <td>CO</td>\n",
       "      <td>DF</td>\n",
       "      <td>DISTRITO FEDERAL</td>\n",
       "      <td>BRASILIA</td>\n",
       "      <td>GASOLINA</td>\n",
       "      <td>6.80</td>\n",
       "    </tr>\n",
       "    <tr>\n",
       "      <th>4</th>\n",
       "      <td>2022</td>\n",
       "      <td>1</td>\n",
       "      <td>JANEIRO</td>\n",
       "      <td>CO</td>\n",
       "      <td>DF</td>\n",
       "      <td>DISTRITO FEDERAL</td>\n",
       "      <td>BRASILIA</td>\n",
       "      <td>GASOLINA ADITIVADA</td>\n",
       "      <td>6.88</td>\n",
       "    </tr>\n",
       "    <tr>\n",
       "      <th>...</th>\n",
       "      <td>...</td>\n",
       "      <td>...</td>\n",
       "      <td>...</td>\n",
       "      <td>...</td>\n",
       "      <td>...</td>\n",
       "      <td>...</td>\n",
       "      <td>...</td>\n",
       "      <td>...</td>\n",
       "      <td>...</td>\n",
       "    </tr>\n",
       "    <tr>\n",
       "      <th>52221</th>\n",
       "      <td>2023</td>\n",
       "      <td>12</td>\n",
       "      <td>DEZEMBRO</td>\n",
       "      <td>SE</td>\n",
       "      <td>SP</td>\n",
       "      <td>SÃO PAULO</td>\n",
       "      <td>VOTUPORANGA</td>\n",
       "      <td>DIESEL</td>\n",
       "      <td>5.86</td>\n",
       "    </tr>\n",
       "    <tr>\n",
       "      <th>52222</th>\n",
       "      <td>2023</td>\n",
       "      <td>12</td>\n",
       "      <td>DEZEMBRO</td>\n",
       "      <td>SE</td>\n",
       "      <td>SP</td>\n",
       "      <td>SÃO PAULO</td>\n",
       "      <td>VOTUPORANGA</td>\n",
       "      <td>DIESEL S10</td>\n",
       "      <td>6.06</td>\n",
       "    </tr>\n",
       "    <tr>\n",
       "      <th>52223</th>\n",
       "      <td>2023</td>\n",
       "      <td>12</td>\n",
       "      <td>DEZEMBRO</td>\n",
       "      <td>SE</td>\n",
       "      <td>SP</td>\n",
       "      <td>SÃO PAULO</td>\n",
       "      <td>VOTUPORANGA</td>\n",
       "      <td>ETANOL</td>\n",
       "      <td>3.06</td>\n",
       "    </tr>\n",
       "    <tr>\n",
       "      <th>52224</th>\n",
       "      <td>2023</td>\n",
       "      <td>12</td>\n",
       "      <td>DEZEMBRO</td>\n",
       "      <td>SE</td>\n",
       "      <td>SP</td>\n",
       "      <td>SÃO PAULO</td>\n",
       "      <td>VOTUPORANGA</td>\n",
       "      <td>GASOLINA</td>\n",
       "      <td>5.49</td>\n",
       "    </tr>\n",
       "    <tr>\n",
       "      <th>52225</th>\n",
       "      <td>2023</td>\n",
       "      <td>12</td>\n",
       "      <td>DEZEMBRO</td>\n",
       "      <td>SE</td>\n",
       "      <td>SP</td>\n",
       "      <td>SÃO PAULO</td>\n",
       "      <td>VOTUPORANGA</td>\n",
       "      <td>GASOLINA ADITIVADA</td>\n",
       "      <td>5.76</td>\n",
       "    </tr>\n",
       "  </tbody>\n",
       "</table>\n",
       "<p>52226 rows × 9 columns</p>\n",
       "</div>"
      ],
      "text/plain": [
       "        ANO  MES    NM_MES REGIAO - SIGLA ESTADO - SIGLA         NM_ESTADO  \\\n",
       "0      2022    1   JANEIRO             CO             DF  DISTRITO FEDERAL   \n",
       "1      2022    1   JANEIRO             CO             DF  DISTRITO FEDERAL   \n",
       "2      2022    1   JANEIRO             CO             DF  DISTRITO FEDERAL   \n",
       "3      2022    1   JANEIRO             CO             DF  DISTRITO FEDERAL   \n",
       "4      2022    1   JANEIRO             CO             DF  DISTRITO FEDERAL   \n",
       "...     ...  ...       ...            ...            ...               ...   \n",
       "52221  2023   12  DEZEMBRO             SE             SP         SÃO PAULO   \n",
       "52222  2023   12  DEZEMBRO             SE             SP         SÃO PAULO   \n",
       "52223  2023   12  DEZEMBRO             SE             SP         SÃO PAULO   \n",
       "52224  2023   12  DEZEMBRO             SE             SP         SÃO PAULO   \n",
       "52225  2023   12  DEZEMBRO             SE             SP         SÃO PAULO   \n",
       "\n",
       "         MUNICIPIO             PRODUTO  VL_MEDIO_VENDA  \n",
       "0         BRASILIA              DIESEL            5.49  \n",
       "1         BRASILIA          DIESEL S10            5.61  \n",
       "2         BRASILIA              ETANOL            5.81  \n",
       "3         BRASILIA            GASOLINA            6.80  \n",
       "4         BRASILIA  GASOLINA ADITIVADA            6.88  \n",
       "...            ...                 ...             ...  \n",
       "52221  VOTUPORANGA              DIESEL            5.86  \n",
       "52222  VOTUPORANGA          DIESEL S10            6.06  \n",
       "52223  VOTUPORANGA              ETANOL            3.06  \n",
       "52224  VOTUPORANGA            GASOLINA            5.49  \n",
       "52225  VOTUPORANGA  GASOLINA ADITIVADA            5.76  \n",
       "\n",
       "[52226 rows x 9 columns]"
      ]
     },
     "execution_count": 55,
     "metadata": {},
     "output_type": "execute_result"
    }
   ],
   "source": [
    "df_states"
   ]
  },
  {
   "cell_type": "code",
   "execution_count": 56,
   "id": "6714f960-707d-4df2-9a92-02ccadff1812",
   "metadata": {
    "tags": []
   },
   "outputs": [
    {
     "data": {
      "text/plain": [
       "Index(['ANO', 'MES', 'NM_MES', 'REGIAO - SIGLA', 'ESTADO - SIGLA', 'NM_ESTADO',\n",
       "       'MUNICIPIO', 'REVENDA', 'CNPJ DA REVENDA', 'NOME DA RUA', 'NUMERO RUA',\n",
       "       'COMPLEMENTO', 'BAIRRO', 'CEP', 'PRODUTO', 'DATA DA COLETA',\n",
       "       'VALOR DE VENDA', 'VALOR DE COMPRA', 'UNIDADE DE MEDIDA', 'BANDEIRA'],\n",
       "      dtype='object')"
      ]
     },
     "execution_count": 56,
     "metadata": {},
     "output_type": "execute_result"
    }
   ],
   "source": [
    "df.columns"
   ]
  },
  {
   "cell_type": "code",
   "execution_count": 57,
   "id": "9660e9ab-9133-4586-9f9b-bbbabda2a4f6",
   "metadata": {
    "tags": []
   },
   "outputs": [],
   "source": [
    "df_comparativo_geral = df.groupby([\n",
    "    'ANO', 'MES', 'NM_MES', 'PRODUTO'\n",
    "])['VALOR DE VENDA'].mean().reset_index().rename(columns= {'VALOR DE VENDA': \"VL_MEDIO_VENDA\"})"
   ]
  },
  {
   "cell_type": "code",
   "execution_count": 58,
   "id": "3cd945fa-a88d-4892-bb24-33663c7aff1f",
   "metadata": {},
   "outputs": [],
   "source": [
    "df_comparativo_states = df.groupby([\n",
    "    'ANO', 'MES', 'NM_MES', 'PRODUTO', 'ESTADO - SIGLA', 'NM_ESTADO'\n",
    "])['VALOR DE VENDA'].mean().reset_index().rename(columns= {'VALOR DE VENDA': \"VL_MEDIO_VENDA\"})"
   ]
  },
  {
   "cell_type": "code",
   "execution_count": 59,
   "id": "4824c51e-6d21-4816-a46f-8a32cb05745d",
   "metadata": {},
   "outputs": [],
   "source": [
    "df_comparativo_citys = df.groupby([\n",
    "    'ANO', 'MES', 'NM_MES', 'PRODUTO', 'NM_ESTADO', 'MUNICIPIO'\n",
    "])['VALOR DE VENDA'].mean().reset_index().rename(columns= {'VALOR DE VENDA': \"VL_MEDIO_VENDA\"})"
   ]
  },
  {
   "cell_type": "code",
   "execution_count": 60,
   "id": "f53e8ef4-092b-41cd-9ae3-181e6786bffb",
   "metadata": {},
   "outputs": [],
   "source": [
    "df_comparativo_geral['VL_MEDIO_VENDA'] = df_comparativo_geral['VL_MEDIO_VENDA'].apply(lambda x: round(x, 2))\n",
    "df_comparativo_states['VL_MEDIO_VENDA'] = df_comparativo_states['VL_MEDIO_VENDA'].apply(lambda x: round(x, 2))\n",
    "df_comparativo_citys['VL_MEDIO_VENDA'] = df_comparativo_citys['VL_MEDIO_VENDA'].apply(lambda x: round(x, 2))"
   ]
  },
  {
   "cell_type": "code",
   "execution_count": 61,
   "id": "1e4aecb8-45a0-424b-9a4b-ab3372ef82ec",
   "metadata": {},
   "outputs": [
    {
     "data": {
      "text/html": [
       "<div>\n",
       "<style scoped>\n",
       "    .dataframe tbody tr th:only-of-type {\n",
       "        vertical-align: middle;\n",
       "    }\n",
       "\n",
       "    .dataframe tbody tr th {\n",
       "        vertical-align: top;\n",
       "    }\n",
       "\n",
       "    .dataframe thead th {\n",
       "        text-align: right;\n",
       "    }\n",
       "</style>\n",
       "<table border=\"1\" class=\"dataframe\">\n",
       "  <thead>\n",
       "    <tr style=\"text-align: right;\">\n",
       "      <th></th>\n",
       "      <th>ANO</th>\n",
       "      <th>MES</th>\n",
       "      <th>NM_MES</th>\n",
       "      <th>PRODUTO</th>\n",
       "      <th>VL_MEDIO_VENDA</th>\n",
       "    </tr>\n",
       "  </thead>\n",
       "  <tbody>\n",
       "    <tr>\n",
       "      <th>0</th>\n",
       "      <td>2022</td>\n",
       "      <td>1</td>\n",
       "      <td>JANEIRO</td>\n",
       "      <td>DIESEL</td>\n",
       "      <td>5.51</td>\n",
       "    </tr>\n",
       "    <tr>\n",
       "      <th>1</th>\n",
       "      <td>2022</td>\n",
       "      <td>1</td>\n",
       "      <td>JANEIRO</td>\n",
       "      <td>DIESEL S10</td>\n",
       "      <td>5.57</td>\n",
       "    </tr>\n",
       "    <tr>\n",
       "      <th>2</th>\n",
       "      <td>2022</td>\n",
       "      <td>1</td>\n",
       "      <td>JANEIRO</td>\n",
       "      <td>ETANOL</td>\n",
       "      <td>5.26</td>\n",
       "    </tr>\n",
       "    <tr>\n",
       "      <th>3</th>\n",
       "      <td>2022</td>\n",
       "      <td>1</td>\n",
       "      <td>JANEIRO</td>\n",
       "      <td>GASOLINA</td>\n",
       "      <td>6.64</td>\n",
       "    </tr>\n",
       "    <tr>\n",
       "      <th>4</th>\n",
       "      <td>2022</td>\n",
       "      <td>1</td>\n",
       "      <td>JANEIRO</td>\n",
       "      <td>GASOLINA ADITIVADA</td>\n",
       "      <td>6.79</td>\n",
       "    </tr>\n",
       "  </tbody>\n",
       "</table>\n",
       "</div>"
      ],
      "text/plain": [
       "    ANO  MES   NM_MES             PRODUTO  VL_MEDIO_VENDA\n",
       "0  2022    1  JANEIRO              DIESEL            5.51\n",
       "1  2022    1  JANEIRO          DIESEL S10            5.57\n",
       "2  2022    1  JANEIRO              ETANOL            5.26\n",
       "3  2022    1  JANEIRO            GASOLINA            6.64\n",
       "4  2022    1  JANEIRO  GASOLINA ADITIVADA            6.79"
      ]
     },
     "execution_count": 61,
     "metadata": {},
     "output_type": "execute_result"
    }
   ],
   "source": [
    "df_comparativo_geral.head()"
   ]
  },
  {
   "cell_type": "code",
   "execution_count": 62,
   "id": "c81bf214-798f-453f-9913-435504a1dc7f",
   "metadata": {},
   "outputs": [
    {
     "data": {
      "text/html": [
       "<div>\n",
       "<style scoped>\n",
       "    .dataframe tbody tr th:only-of-type {\n",
       "        vertical-align: middle;\n",
       "    }\n",
       "\n",
       "    .dataframe tbody tr th {\n",
       "        vertical-align: top;\n",
       "    }\n",
       "\n",
       "    .dataframe thead th {\n",
       "        text-align: right;\n",
       "    }\n",
       "</style>\n",
       "<table border=\"1\" class=\"dataframe\">\n",
       "  <thead>\n",
       "    <tr style=\"text-align: right;\">\n",
       "      <th></th>\n",
       "      <th>ANO</th>\n",
       "      <th>MES</th>\n",
       "      <th>NM_MES</th>\n",
       "      <th>PRODUTO</th>\n",
       "      <th>ESTADO - SIGLA</th>\n",
       "      <th>NM_ESTADO</th>\n",
       "      <th>VL_MEDIO_VENDA</th>\n",
       "    </tr>\n",
       "  </thead>\n",
       "  <tbody>\n",
       "    <tr>\n",
       "      <th>0</th>\n",
       "      <td>2022</td>\n",
       "      <td>1</td>\n",
       "      <td>JANEIRO</td>\n",
       "      <td>DIESEL</td>\n",
       "      <td>AC</td>\n",
       "      <td>ACRE</td>\n",
       "      <td>6.33</td>\n",
       "    </tr>\n",
       "    <tr>\n",
       "      <th>1</th>\n",
       "      <td>2022</td>\n",
       "      <td>1</td>\n",
       "      <td>JANEIRO</td>\n",
       "      <td>DIESEL</td>\n",
       "      <td>AL</td>\n",
       "      <td>ALAGOAS</td>\n",
       "      <td>5.77</td>\n",
       "    </tr>\n",
       "    <tr>\n",
       "      <th>2</th>\n",
       "      <td>2022</td>\n",
       "      <td>1</td>\n",
       "      <td>JANEIRO</td>\n",
       "      <td>DIESEL</td>\n",
       "      <td>AM</td>\n",
       "      <td>AMAZONAS</td>\n",
       "      <td>5.66</td>\n",
       "    </tr>\n",
       "    <tr>\n",
       "      <th>3</th>\n",
       "      <td>2022</td>\n",
       "      <td>1</td>\n",
       "      <td>JANEIRO</td>\n",
       "      <td>DIESEL</td>\n",
       "      <td>AP</td>\n",
       "      <td>AMAPÁ</td>\n",
       "      <td>5.53</td>\n",
       "    </tr>\n",
       "    <tr>\n",
       "      <th>4</th>\n",
       "      <td>2022</td>\n",
       "      <td>1</td>\n",
       "      <td>JANEIRO</td>\n",
       "      <td>DIESEL</td>\n",
       "      <td>BA</td>\n",
       "      <td>BAHIA</td>\n",
       "      <td>5.70</td>\n",
       "    </tr>\n",
       "  </tbody>\n",
       "</table>\n",
       "</div>"
      ],
      "text/plain": [
       "    ANO  MES   NM_MES PRODUTO ESTADO - SIGLA NM_ESTADO  VL_MEDIO_VENDA\n",
       "0  2022    1  JANEIRO  DIESEL             AC      ACRE            6.33\n",
       "1  2022    1  JANEIRO  DIESEL             AL   ALAGOAS            5.77\n",
       "2  2022    1  JANEIRO  DIESEL             AM  AMAZONAS            5.66\n",
       "3  2022    1  JANEIRO  DIESEL             AP     AMAPÁ            5.53\n",
       "4  2022    1  JANEIRO  DIESEL             BA     BAHIA            5.70"
      ]
     },
     "execution_count": 62,
     "metadata": {},
     "output_type": "execute_result"
    }
   ],
   "source": [
    "df_comparativo_states.head()"
   ]
  },
  {
   "cell_type": "code",
   "execution_count": 63,
   "id": "f12b8b83-a363-486f-a9d7-60ad96889811",
   "metadata": {},
   "outputs": [
    {
     "data": {
      "text/html": [
       "<div>\n",
       "<style scoped>\n",
       "    .dataframe tbody tr th:only-of-type {\n",
       "        vertical-align: middle;\n",
       "    }\n",
       "\n",
       "    .dataframe tbody tr th {\n",
       "        vertical-align: top;\n",
       "    }\n",
       "\n",
       "    .dataframe thead th {\n",
       "        text-align: right;\n",
       "    }\n",
       "</style>\n",
       "<table border=\"1\" class=\"dataframe\">\n",
       "  <thead>\n",
       "    <tr style=\"text-align: right;\">\n",
       "      <th></th>\n",
       "      <th>ANO</th>\n",
       "      <th>MES</th>\n",
       "      <th>NM_MES</th>\n",
       "      <th>PRODUTO</th>\n",
       "      <th>NM_ESTADO</th>\n",
       "      <th>MUNICIPIO</th>\n",
       "      <th>VL_MEDIO_VENDA</th>\n",
       "    </tr>\n",
       "  </thead>\n",
       "  <tbody>\n",
       "    <tr>\n",
       "      <th>0</th>\n",
       "      <td>2022</td>\n",
       "      <td>1</td>\n",
       "      <td>JANEIRO</td>\n",
       "      <td>DIESEL</td>\n",
       "      <td>ACRE</td>\n",
       "      <td>CRUZEIRO DO SUL</td>\n",
       "      <td>6.68</td>\n",
       "    </tr>\n",
       "    <tr>\n",
       "      <th>1</th>\n",
       "      <td>2022</td>\n",
       "      <td>1</td>\n",
       "      <td>JANEIRO</td>\n",
       "      <td>DIESEL</td>\n",
       "      <td>ACRE</td>\n",
       "      <td>RIO BRANCO</td>\n",
       "      <td>6.19</td>\n",
       "    </tr>\n",
       "    <tr>\n",
       "      <th>2</th>\n",
       "      <td>2022</td>\n",
       "      <td>1</td>\n",
       "      <td>JANEIRO</td>\n",
       "      <td>DIESEL</td>\n",
       "      <td>ALAGOAS</td>\n",
       "      <td>ARAPIRACA</td>\n",
       "      <td>5.48</td>\n",
       "    </tr>\n",
       "    <tr>\n",
       "      <th>3</th>\n",
       "      <td>2022</td>\n",
       "      <td>1</td>\n",
       "      <td>JANEIRO</td>\n",
       "      <td>DIESEL</td>\n",
       "      <td>ALAGOAS</td>\n",
       "      <td>DELMIRO GOUVEIA</td>\n",
       "      <td>6.12</td>\n",
       "    </tr>\n",
       "    <tr>\n",
       "      <th>4</th>\n",
       "      <td>2022</td>\n",
       "      <td>1</td>\n",
       "      <td>JANEIRO</td>\n",
       "      <td>DIESEL</td>\n",
       "      <td>ALAGOAS</td>\n",
       "      <td>MACEIO</td>\n",
       "      <td>5.57</td>\n",
       "    </tr>\n",
       "  </tbody>\n",
       "</table>\n",
       "</div>"
      ],
      "text/plain": [
       "    ANO  MES   NM_MES PRODUTO NM_ESTADO        MUNICIPIO  VL_MEDIO_VENDA\n",
       "0  2022    1  JANEIRO  DIESEL      ACRE  CRUZEIRO DO SUL            6.68\n",
       "1  2022    1  JANEIRO  DIESEL      ACRE       RIO BRANCO            6.19\n",
       "2  2022    1  JANEIRO  DIESEL   ALAGOAS        ARAPIRACA            5.48\n",
       "3  2022    1  JANEIRO  DIESEL   ALAGOAS  DELMIRO GOUVEIA            6.12\n",
       "4  2022    1  JANEIRO  DIESEL   ALAGOAS           MACEIO            5.57"
      ]
     },
     "execution_count": 63,
     "metadata": {},
     "output_type": "execute_result"
    }
   ],
   "source": [
    "df_comparativo_citys.head()"
   ]
  },
  {
   "cell_type": "markdown",
   "id": "01f574af-684f-4dc1-8ef9-ec37a9904982",
   "metadata": {},
   "source": [
    "# Mapa"
   ]
  },
  {
   "cell_type": "markdown",
   "id": "f01ec0a6-a1cd-484f-a9c5-88b7886e365a",
   "metadata": {},
   "source": [
    "# geojson"
   ]
  },
  {
   "cell_type": "code",
   "execution_count": 64,
   "id": "c23f1541-11bc-4c04-b853-c947614ddfbd",
   "metadata": {
    "tags": []
   },
   "outputs": [],
   "source": [
    "geojson = json.load(open('../data/brasil_estados.json'))"
   ]
  },
  {
   "cell_type": "markdown",
   "id": "81c3320b-cc2c-4b9b-b4fe-facbd0325e2d",
   "metadata": {},
   "source": [
    "# df_map"
   ]
  },
  {
   "cell_type": "code",
   "execution_count": 65,
   "id": "be48fa9a-e7f3-4ee6-a375-2f823a9223b4",
   "metadata": {
    "tags": []
   },
   "outputs": [],
   "source": [
    "df_map = df.groupby([\n",
    "    'PRODUTO', 'ESTADO - SIGLA', 'NM_ESTADO'\n",
    "])['VALOR DE VENDA'].mean().reset_index().rename(columns= {'VALOR DE VENDA': \"VL_MEDIO_VENDA\"})"
   ]
  },
  {
   "cell_type": "code",
   "execution_count": 66,
   "id": "39ca36aa-63a6-41dd-9e07-c04e8acce2eb",
   "metadata": {
    "tags": []
   },
   "outputs": [],
   "source": [
    "df_map['VL_MEDIO_VENDA'] = df_map['VL_MEDIO_VENDA'].apply(lambda x: round(x, 2))"
   ]
  },
  {
   "cell_type": "code",
   "execution_count": null,
   "id": "8e29d2c0",
   "metadata": {},
   "outputs": [],
   "source": [
    "produtos = df['PRODUTO'].unique().tolist()\n",
    "\n",
    "for produto in produtos:\n",
    "\n",
    "    # Mapa\n",
    "    map_graph = go.Figure()\n",
    "\n",
    "    map_graph.add_trace(go.Choroplethmapbox(\n",
    "        geojson= geojson,\n",
    "        locations= df_map[df_map['PRODUTO'] == produto]['ESTADO - SIGLA'],\n",
    "        z= df_map[df_map['PRODUTO'] == produto]['VL_MEDIO_VENDA'],\n",
    "        colorscale= 'haline',\n",
    "        colorbar= dict(title='Valor Médio de Venda',\n",
    "                    title_font_color= 'black',\n",
    "                    title_font_size= 20,\n",
    "                    tickprefix='R$ ',\n",
    "                    tickfont_color= 'black',\n",
    "                    x= 0.1\n",
    "                    ),\n",
    "        hovertext= df_map[df_map['PRODUTO'] == produto]['NM_ESTADO'] + '<br>' + 'R$ ' + df_map[df_map['PRODUTO'] == produto]['VL_MEDIO_VENDA'].apply(lambda x: str(x)),\n",
    "        hoverinfo= 'text'\n",
    "    ))\n",
    "\n",
    "\n",
    "    # Layout do mapa\n",
    "    map_graph.update_layout(\n",
    "        mapbox_style= 'white-bg',\n",
    "        mapbox_zoom= 3,\n",
    "        mapbox_center ={'lat': -14, 'lon': -55},\n",
    "        margin= dict(l=0, r=0, t=0, b=0),\n",
    "        geo= dict(lakecolor='rgb(255, 255, 255)'),\n",
    "        height= 625,\n",
    "        hoverlabel= dict(\n",
    "                font= dict(color= 'white',\n",
    "                            size= 14),\n",
    "                bgcolor= 'black')\n",
    "    )\n",
    "\n",
    "    map_graph.show()"
   ]
  },
  {
   "cell_type": "code",
   "execution_count": 67,
   "id": "5088d9af-cfe5-467d-b0a5-47a71eb822bf",
   "metadata": {},
   "outputs": [],
   "source": [
    "df_map.to_csv('../data/df_map.csv',\n",
    "             sep= ';',\n",
    "             index= False)"
   ]
  },
  {
   "cell_type": "code",
   "execution_count": 68,
   "id": "503fbb5f-3a24-4372-afc2-67981ada7fd3",
   "metadata": {},
   "outputs": [],
   "source": [
    "df_comparativo_geral.to_csv('../data/df_comparativo_geral.csv',\n",
    "               sep= ';',\n",
    "                    index= False)"
   ]
  },
  {
   "cell_type": "code",
   "execution_count": 69,
   "id": "d3b27ed7-228e-4614-a842-6e2866b2c801",
   "metadata": {},
   "outputs": [],
   "source": [
    "df_comparativo_states.to_csv('../data/df_comparativo_states.csv',\n",
    "               sep= ';',\n",
    "                    index= False)"
   ]
  },
  {
   "cell_type": "code",
   "execution_count": 70,
   "id": "20399d32-a1a2-4ca0-94cc-631582e1e01e",
   "metadata": {},
   "outputs": [],
   "source": [
    "df_comparativo_citys.to_csv('../data/df_comparativo_citys.csv',\n",
    "               sep= ';',\n",
    "                    index= False)"
   ]
  },
  {
   "cell_type": "code",
   "execution_count": 71,
   "id": "3c704043-874a-4da4-a3ae-f1565d7234a8",
   "metadata": {},
   "outputs": [],
   "source": [
    "df_states.to_csv('../data/df_states.csv',\n",
    "               sep= ';',\n",
    "               index= False)"
   ]
  },
  {
   "cell_type": "code",
   "execution_count": 72,
   "id": "478f8c19-567e-4dcd-944b-38ede9b02fdb",
   "metadata": {},
   "outputs": [],
   "source": [
    "df_years.to_csv('../data/df_years.csv',\n",
    "               sep= ';',\n",
    "               index= False)"
   ]
  },
  {
   "cell_type": "code",
   "execution_count": 73,
   "id": "36c0fe6a-b63f-4433-8411-7a17f55ef60f",
   "metadata": {},
   "outputs": [
    {
     "name": "stdout",
     "output_type": "stream",
     "text": [
      "Processamento finalizado em: 25/03/2024 13:44:18\n"
     ]
    }
   ],
   "source": [
    "# Registrando término do processamento\n",
    "now = datetime.now()\n",
    "print('Processamento finalizado em: {:%d/%m/%Y %H:%M:%S}'.format(now))"
   ]
  }
 ],
 "metadata": {
  "kernelspec": {
   "display_name": "Python 3 (ipykernel)",
   "language": "python",
   "name": "python3"
  },
  "language_info": {
   "codemirror_mode": {
    "name": "ipython",
    "version": 3
   },
   "file_extension": ".py",
   "mimetype": "text/x-python",
   "name": "python",
   "nbconvert_exporter": "python",
   "pygments_lexer": "ipython3",
   "version": "3.11.7"
  }
 },
 "nbformat": 4,
 "nbformat_minor": 5
}
