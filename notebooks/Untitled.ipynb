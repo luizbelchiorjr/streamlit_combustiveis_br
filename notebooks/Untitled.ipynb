{
 "cells": [
  {
   "cell_type": "code",
   "execution_count": 1,
   "id": "716a6014-094a-451e-a443-d9c7f5df272a",
   "metadata": {
    "tags": []
   },
   "outputs": [
    {
     "ename": "NameError",
     "evalue": "name 'geojson' is not defined",
     "output_type": "error",
     "traceback": [
      "\u001b[1;31m---------------------------------------------------------------------------\u001b[0m",
      "\u001b[1;31mNameError\u001b[0m                                 Traceback (most recent call last)",
      "Cell \u001b[1;32mIn[1], line 7\u001b[0m\n\u001b[0;32m      3\u001b[0m \u001b[38;5;28;01mimport\u001b[39;00m \u001b[38;5;21;01mseaborn\u001b[39;00m \u001b[38;5;28;01mas\u001b[39;00m \u001b[38;5;21;01msns\u001b[39;00m\n\u001b[0;32m      5\u001b[0m \u001b[38;5;66;03m# Filtrar dados do GeoJSON para incluir apenas os estados desejados\u001b[39;00m\n\u001b[0;32m      6\u001b[0m geojson_filtered \u001b[38;5;241m=\u001b[39m {\n\u001b[1;32m----> 7\u001b[0m     \u001b[38;5;124m\"\u001b[39m\u001b[38;5;124mtype\u001b[39m\u001b[38;5;124m\"\u001b[39m: geojson[\u001b[38;5;124m\"\u001b[39m\u001b[38;5;124mtype\u001b[39m\u001b[38;5;124m\"\u001b[39m],\n\u001b[0;32m      8\u001b[0m     \u001b[38;5;124m\"\u001b[39m\u001b[38;5;124mfeatures\u001b[39m\u001b[38;5;124m\"\u001b[39m: [feature \u001b[38;5;28;01mfor\u001b[39;00m feature \u001b[38;5;129;01min\u001b[39;00m geojson[\u001b[38;5;124m\"\u001b[39m\u001b[38;5;124mfeatures\u001b[39m\u001b[38;5;124m\"\u001b[39m] \u001b[38;5;28;01mif\u001b[39;00m feature[\u001b[38;5;124m\"\u001b[39m\u001b[38;5;124mid\u001b[39m\u001b[38;5;124m\"\u001b[39m] \u001b[38;5;129;01min\u001b[39;00m df_map[df_map[\u001b[38;5;124m'\u001b[39m\u001b[38;5;124mPRODUTO\u001b[39m\u001b[38;5;124m'\u001b[39m] \u001b[38;5;241m==\u001b[39m produto][\u001b[38;5;124m'\u001b[39m\u001b[38;5;124mESTADO - SIGLA\u001b[39m\u001b[38;5;124m'\u001b[39m]\u001b[38;5;241m.\u001b[39mtolist()]\n\u001b[0;32m      9\u001b[0m }\n\u001b[0;32m     11\u001b[0m \u001b[38;5;66;03m# Criar um GeoDataFrame a partir do GeoJSON filtrado\u001b[39;00m\n\u001b[0;32m     12\u001b[0m gdf \u001b[38;5;241m=\u001b[39m gpd\u001b[38;5;241m.\u001b[39mGeoDataFrame\u001b[38;5;241m.\u001b[39mfrom_features(geojson_filtered, crs\u001b[38;5;241m=\u001b[39m\u001b[38;5;124m\"\u001b[39m\u001b[38;5;124mEPSG:4326\u001b[39m\u001b[38;5;124m\"\u001b[39m)\n",
      "\u001b[1;31mNameError\u001b[0m: name 'geojson' is not defined"
     ]
    }
   ],
   "source": [
    "import geopandas as gpd\n",
    "import matplotlib.pyplot as plt\n",
    "import seaborn as sns\n",
    "\n",
    "# Filtrar dados do GeoJSON para incluir apenas os estados desejados\n",
    "geojson_filtered = {\n",
    "    \"type\": geojson[\"type\"],\n",
    "    \"features\": [feature for feature in geojson[\"features\"] if feature[\"id\"] in df_map[df_map['PRODUTO'] == produto]['ESTADO - SIGLA'].tolist()]\n",
    "}\n",
    "\n",
    "# Criar um GeoDataFrame a partir do GeoJSON filtrado\n",
    "gdf = gpd.GeoDataFrame.from_features(geojson_filtered, crs=\"EPSG:4326\")\n",
    "\n",
    "# Merge dos dados do GeoDataFrame com os dados de venda\n",
    "gdf = gdf.merge(df_map[df_map['PRODUTO'] == produto], left_on='id', right_on='ESTADO - SIGLA')\n",
    "\n",
    "# Configuração do gráfico\n",
    "plt.figure(figsize=(12, 8))\n",
    "sns.set(style=\"whitegrid\")\n",
    "\n",
    "# Mapa de contorno dos estados\n",
    "ax = gdf.plot(column='VL_MEDIO_VENDA', cmap='Reds', linewidth=0.8, edgecolor='0.8', legend=True)\n",
    "\n",
    "# Adicionar anotações para os top 5 estados\n",
    "top_5_data = df_map[df_map['PRODUTO'] == produto].sort_values('VL_MEDIO_VENDA', ascending=False).head(5)\n",
    "for idx, row in top_5_data.iterrows():\n",
    "    plt.annotate(f\"{row['NM_ESTADO']} - R$ {row['VL_MEDIO_VENDA']:.2f}\", \n",
    "                 xy=(row['geometry'].centroid.x, row['geometry'].centroid.y),\n",
    "                 xytext=(3, 3),\n",
    "                 textcoords=\"offset points\",\n",
    "                 fontsize=10,\n",
    "                 color='black')\n",
    "\n",
    "# Adicionar barra de cores\n",
    "cax = plt.axes([0.9, 0.1, 0.03, 0.8])\n",
    "sm = plt.cm.ScalarMappable(cmap='Reds', norm=plt.Normalize(vmin=gdf['VL_MEDIO_VENDA'].min(), vmax=gdf['VL_MEDIO_VENDA'].max()))\n",
    "sm._A = []\n",
    "plt.colorbar(sm, cax=cax, label='Valor Médio de Venda (R$)')\n",
    "\n",
    "# Configurações adicionais do mapa\n",
    "plt.title(f'Valor Médio de Venda por Estado - {produto}')\n",
    "plt.axis('off')\n",
    "\n",
    "# Exibir o mapa\n",
    "plt.show()\n"
   ]
  }
 ],
 "metadata": {
  "kernelspec": {
   "display_name": "Python 3 (ipykernel)",
   "language": "python",
   "name": "python3"
  },
  "language_info": {
   "codemirror_mode": {
    "name": "ipython",
    "version": 3
   },
   "file_extension": ".py",
   "mimetype": "text/x-python",
   "name": "python",
   "nbconvert_exporter": "python",
   "pygments_lexer": "ipython3",
   "version": "3.11.4"
  }
 },
 "nbformat": 4,
 "nbformat_minor": 5
}
